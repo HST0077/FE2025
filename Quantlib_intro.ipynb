{
  "cells": [
    {
      "cell_type": "code",
      "source": [
        "!pip install QuantLib-Python\n",
        "# 주피터랩에서의 설치: conda install -c conda-forge QuantLib-Python"
      ],
      "metadata": {
        "id": "Fd0_4oC3A7k0",
        "outputId": "3f048f18-ccc5-4bf4-ae9c-a0624804b3b2",
        "colab": {
          "base_uri": "https://localhost:8080/"
        }
      },
      "id": "Fd0_4oC3A7k0",
      "execution_count": 2,
      "outputs": [
        {
          "output_type": "stream",
          "name": "stdout",
          "text": [
            "Collecting QuantLib-Python\n",
            "  Downloading QuantLib_Python-1.18-py2.py3-none-any.whl.metadata (1.0 kB)\n",
            "Collecting QuantLib (from QuantLib-Python)\n",
            "  Downloading quantlib-1.39-cp38-abi3-manylinux_2_24_x86_64.manylinux_2_28_x86_64.whl.metadata (1.1 kB)\n",
            "Downloading QuantLib_Python-1.18-py2.py3-none-any.whl (1.4 kB)\n",
            "Downloading quantlib-1.39-cp38-abi3-manylinux_2_24_x86_64.manylinux_2_28_x86_64.whl (20.1 MB)\n",
            "\u001b[2K   \u001b[90m━━━━━━━━━━━━━━━━━━━━━━━━━━━━━━━━━━━━━━━━\u001b[0m \u001b[32m20.1/20.1 MB\u001b[0m \u001b[31m84.1 MB/s\u001b[0m eta \u001b[36m0:00:00\u001b[0m\n",
            "\u001b[?25hInstalling collected packages: QuantLib, QuantLib-Python\n",
            "Successfully installed QuantLib-1.39 QuantLib-Python-1.18\n"
          ]
        }
      ]
    },
    {
      "cell_type": "markdown",
      "id": "b595f22e-1af6-4d74-bd6a-65fc66d98f65",
      "metadata": {
        "id": "b595f22e-1af6-4d74-bd6a-65fc66d98f65"
      },
      "source": [
        "# 날짜 및 스케쥴만들기"
      ]
    },
    {
      "cell_type": "markdown",
      "source": [
        "### Quantlib 패키지의 'Date', 'Period' 객체를 사용하여 현재 날짜로부터 10일 후, 3주후, 5달후, 2년 후의 날짜를 생성해 보아라."
      ],
      "metadata": {
        "id": "--dxJ1DBBKQs"
      },
      "id": "--dxJ1DBBKQs"
    },
    {
      "cell_type": "code",
      "execution_count": 4,
      "id": "17876719-17b6-432a-91fe-f73092271670",
      "metadata": {
        "tags": [],
        "id": "17876719-17b6-432a-91fe-f73092271670",
        "outputId": "dd9edbd2-a517-4d8f-d97a-643171278e6f",
        "colab": {
          "base_uri": "https://localhost:8080/"
        }
      },
      "outputs": [
        {
          "output_type": "stream",
          "name": "stdout",
          "text": [
            "September 10th, 2025\n"
          ]
        }
      ],
      "source": [
        "from QuantLib import Date\n",
        "import datetime\n",
        "\n",
        "# 현재 날짜 설정 방법 1 (datetime 이용)\n",
        "current_date = datetime.date.today()\n",
        "\n",
        "# QuantLib의 Date 객체로 변환\n",
        "ql_current_date = Date(current_date.day,\n",
        "                       current_date.month,\n",
        "                       current_date.year)\n",
        "print(ql_current_date)"
      ]
    },
    {
      "cell_type": "code",
      "execution_count": 5,
      "id": "ca1049aa-dd95-4f4f-bb05-db074d28f510",
      "metadata": {
        "tags": [],
        "id": "ca1049aa-dd95-4f4f-bb05-db074d28f510",
        "outputId": "550e19a0-6c4e-4f43-c210-3c94a667a189",
        "colab": {
          "base_uri": "https://localhost:8080/"
        }
      },
      "outputs": [
        {
          "output_type": "stream",
          "name": "stdout",
          "text": [
            "September 10th, 2025\n"
          ]
        }
      ],
      "source": [
        "import QuantLib as ql\n",
        "# 현재 날짜 설정 방법 2 (QuantLib이용)\n",
        "ql_current_date=ql.Date.todaysDate()\n",
        "print(ql_current_date)"
      ]
    },
    {
      "cell_type": "code",
      "execution_count": 6,
      "id": "fed153ea-1796-4f64-83a9-5101f4120d92",
      "metadata": {
        "tags": [],
        "id": "fed153ea-1796-4f64-83a9-5101f4120d92",
        "outputId": "0b9f00a6-3b38-47e9-b159-cc494ba5d7b1",
        "colab": {
          "base_uri": "https://localhost:8080/"
        }
      },
      "outputs": [
        {
          "output_type": "stream",
          "name": "stdout",
          "text": [
            "March 18th, 2024\n"
          ]
        }
      ],
      "source": [
        "import QuantLib as ql\n",
        "# Date object 사용법 Date(날짜, 월, 년도)\n",
        "\n",
        "date=ql.Date(18,3,2024)\n",
        "print(date)"
      ]
    },
    {
      "cell_type": "code",
      "execution_count": 7,
      "id": "146a5ac5-e227-45f5-8c27-1db831903a26",
      "metadata": {
        "tags": [],
        "id": "146a5ac5-e227-45f5-8c27-1db831903a26",
        "outputId": "ea0a627e-f999-4b87-8dde-b85bfd91ab69",
        "colab": {
          "base_uri": "https://localhost:8080/"
        }
      },
      "outputs": [
        {
          "output_type": "stream",
          "name": "stdout",
          "text": [
            "Add 10 days: September 19th, 2025\n",
            "Add 3 weeks: September 30th, 2025\n",
            "Add 5 months: February 9th, 2026\n",
            "Add 2 years:  September 9th, 2027\n"
          ]
        }
      ],
      "source": [
        "from QuantLib import Period, Weeks, Months, Years\n",
        "# Period module 이용\n",
        "# Period는 단순 날짜 계산만 한다. 즉, 영업일 고려 없음\n",
        "date=ql.Date(9,9,2025)\n",
        "print('Add 10 days:',date+10)\n",
        "print('Add 3 weeks:',date+Period(3,Weeks))\n",
        "print('Add 5 months:',date+Period(5,Months))\n",
        "print('Add 2 years: ',date+Period(2,Years))"
      ]
    },
    {
      "cell_type": "code",
      "execution_count": 8,
      "id": "cb74a3fa-d994-405f-8210-ccb8b8ea78cd",
      "metadata": {
        "tags": [],
        "id": "cb74a3fa-d994-405f-8210-ccb8b8ea78cd",
        "outputId": "b36ce22c-3e12-4db8-dbd7-0aa4a6769428",
        "colab": {
          "base_uri": "https://localhost:8080/"
        }
      },
      "outputs": [
        {
          "output_type": "stream",
          "name": "stdout",
          "text": [
            "2년 후의 년도:  2027\n",
            "2년 후의 월:  9\n",
            "2년 후의 일:  9\n"
          ]
        }
      ],
      "source": [
        "# 2년 후의 년도, 월, 일을 리턴하려면 아래와 같이 하면 된다\n",
        "date_2years=date+Period(2,Years)\n",
        "print('2년 후의 년도: ',date_2years.year())\n",
        "print('2년 후의 월: ',date_2years.month())\n",
        "print('2년 후의 일: ',date_2years.dayOfMonth())"
      ]
    },
    {
      "cell_type": "markdown",
      "source": [
        "### 대한민국에서 2024년 3월9일은 토요일이다. 1주일 후의 영업일 날짜를 출력해 보아라."
      ],
      "metadata": {
        "id": "l8DDjeGgBt-O"
      },
      "id": "l8DDjeGgBt-O"
    },
    {
      "cell_type": "code",
      "execution_count": 11,
      "id": "88791f2b-6cf3-4c13-8806-9dfd22fd1a42",
      "metadata": {
        "tags": [],
        "id": "88791f2b-6cf3-4c13-8806-9dfd22fd1a42",
        "outputId": "7872c690-dcd3-485e-dcf6-59083e919f92",
        "colab": {
          "base_uri": "https://localhost:8080/"
        }
      },
      "outputs": [
        {
          "output_type": "stream",
          "name": "stdout",
          "text": [
            "1주일후 직전 영업일 날짜: March 15th, 2024\n",
            "1주일후 직후 영업일 날짜: March 18th, 2024\n"
          ]
        }
      ],
      "source": [
        "import QuantLib as ql\n",
        "# 2년 후의 대한민국 영업일 기준 날짜\n",
        "kr_cal=ql.SouthKorea() # 대한민국 캘린더 설정\n",
        "# us_cal=ql.UnitedStates()\n",
        "# it_cal=ql.Italy()\n",
        "\n",
        "date=ql.Date(9,3,2024)\n",
        "period=ql.Period(1, Weeks) # 1주일 시간간격 설정\n",
        "# ql.Preceding으로 지정하지 않으면 직전 영업일로 이동\n",
        "# ql.Following (직후 영업일 출력, 디폴트값)\n",
        "kr_date_preceding=kr_cal.advance(date,period,ql.Preceding)\n",
        "kr_date_following=kr_cal.advance(date,period)\n",
        "print('1주일후 직전 영업일 날짜:',kr_date_preceding)\n",
        "print('1주일후 직후 영업일 날짜:',kr_date_following)"
      ]
    },
    {
      "cell_type": "code",
      "execution_count": 17,
      "id": "c1262bfd-6502-4292-b21a-45cb7df45aad",
      "metadata": {
        "tags": [],
        "id": "c1262bfd-6502-4292-b21a-45cb7df45aad",
        "outputId": "62db5777-65db-4f7d-8da5-eb85bc54e0b7",
        "colab": {
          "base_uri": "https://localhost:8080/"
        }
      },
      "outputs": [
        {
          "output_type": "stream",
          "name": "stdout",
          "text": [
            "1달후 영업일 날짜: July 1st, 2024\n",
            "1달후 영업일 날짜: June 28th, 2024\n"
          ]
        }
      ],
      "source": [
        "date=ql.Date(30,5,2024)\n",
        "period=ql.Period(1, ql.Months)\n",
        "kr_date_following=kr_cal.advance(date,period,ql.Following)\n",
        "# 계약 날짜가 비영업일로 이동될 때 해당 월을 넘어가는 경우,\n",
        "# 대신 이전 영업일로 날짜가 조정됨\n",
        "# 즉, ql.ModifiedFollowing은 월을 넘기지 않는 범위 내에서\n",
        "# 다음 영업일로 날짜를 이동시킵니다.\n",
        "kr_date_Mfollowing=kr_cal.advance(date,period,ql.ModifiedFollowing)\n",
        "print('1달후 영업일 날짜:',kr_date_following)\n",
        "print('1달후 영업일 날짜:',kr_date_Mfollowing)"
      ]
    },
    {
      "cell_type": "markdown",
      "source": [
        "### 2026년 1월1일부터 12월31일까지의 일본, 미국, 대한민국의 영업일 수를 각각 구하고, 3국의 휴일 정보를 감안하여 영업일 수를 다시 계산해 보아라."
      ],
      "metadata": {
        "id": "43_76BYZDwvv"
      },
      "id": "43_76BYZDwvv"
    },
    {
      "cell_type": "code",
      "execution_count": 20,
      "id": "381d98e1-4905-4d7c-bd62-6c345708b749",
      "metadata": {
        "tags": [],
        "id": "381d98e1-4905-4d7c-bd62-6c345708b749",
        "outputId": "d12c7d7e-07d7-46c7-e15e-a49dc198d611",
        "colab": {
          "base_uri": "https://localhost:8080/"
        }
      },
      "outputs": [
        {
          "output_type": "stream",
          "name": "stdout",
          "text": [
            "October 1st, 2025 에서  October 10th, 2025 까지의 영업일수:  2\n"
          ]
        }
      ],
      "source": [
        "# 대한민국에서 주어진 날짜의 영업일 수 계산\n",
        "date=Date(1,10,2025)\n",
        "T_date=Date(10,10,2025)\n",
        "kr_biz_days=kr_cal.businessDaysBetween(date,T_date)\n",
        "print(date, '에서 ', T_date, '까지의 영업일수: ', kr_biz_days)"
      ]
    },
    {
      "cell_type": "code",
      "execution_count": 22,
      "id": "1e02756c-1fbb-472f-ab85-240e96d00f38",
      "metadata": {
        "tags": [],
        "id": "1e02756c-1fbb-472f-ab85-240e96d00f38",
        "outputId": "b89de916-f371-4652-f8e2-c2702f2892e0",
        "colab": {
          "base_uri": "https://localhost:8080/"
        }
      },
      "outputs": [
        {
          "output_type": "stream",
          "name": "stdout",
          "text": [
            "현재 날짜: October 2nd, 2025\n",
            "하루 후 날짜: October 3rd, 2025\n",
            "캘린더 상 하루 후 날짜: October 10th, 2025\n"
          ]
        }
      ],
      "source": [
        "# 주의할 점\n",
        "today = ql.Date(2,10,2025)\n",
        "# 날짜 객체로 생성\n",
        "kr_cal=ql.SouthKorea()\n",
        "\n",
        "print('현재 날짜:',today)\n",
        "dD=ql.Period(1,ql.Days)\n",
        "D1=today+dD\n",
        "print('하루 후 날짜:',D1)\n",
        "D2=kr_cal.advance(today,dD)\n",
        "print('캘린더 상 하루 후 날짜:',D2)"
      ]
    },
    {
      "cell_type": "code",
      "execution_count": 23,
      "id": "6d483aa4-9bd4-4baa-b80d-fde83556f23a",
      "metadata": {
        "id": "6d483aa4-9bd4-4baa-b80d-fde83556f23a",
        "outputId": "c793a33e-b1a1-41c1-ce4b-6074ac99d2aa",
        "colab": {
          "base_uri": "https://localhost:8080/"
        }
      },
      "outputs": [
        {
          "output_type": "stream",
          "name": "stdout",
          "text": [
            "1개월 후 날짜: November 2nd, 2025\n",
            "캘린더 상 1개월 후 날짜: November 3rd, 2025\n"
          ]
        }
      ],
      "source": [
        "# 한 달 후 날짜\n",
        "dD=ql.Period(1,ql.Months)\n",
        "D1=today+dD\n",
        "print('1개월 후 날짜:',D1)\n",
        "D2=kr_cal.advance(today,dD)\n",
        "print('캘린더 상 1개월 후 날짜:',D2)"
      ]
    },
    {
      "cell_type": "code",
      "execution_count": 24,
      "id": "08dcb87d-5aee-46a9-bb6e-8faf0f81d3ee",
      "metadata": {
        "id": "08dcb87d-5aee-46a9-bb6e-8faf0f81d3ee",
        "outputId": "b8ba36ce-50b6-4530-c38e-649543645a5d",
        "colab": {
          "base_uri": "https://localhost:8080/"
        }
      },
      "outputs": [
        {
          "output_type": "stream",
          "name": "stdout",
          "text": [
            "1개월 후 날짜: November 1st, 2025\n",
            "캘린더 상 1개월 후 날짜: November 20th, 2025\n"
          ]
        }
      ],
      "source": [
        "# 한 달 후 날짜\n",
        "dD=ql.Period(30,ql.Days)\n",
        "D1=today+dD\n",
        "print('1개월 후 날짜:',D1)\n",
        "D2=kr_cal.advance(today,dD)\n",
        "print('캘린더 상 1개월 후 날짜:',D2)"
      ]
    },
    {
      "cell_type": "code",
      "execution_count": 25,
      "id": "3beba4a0-c1a0-4e1d-aa97-4c1b0c8f2870",
      "metadata": {
        "id": "3beba4a0-c1a0-4e1d-aa97-4c1b0c8f2870",
        "outputId": "c2b1ae8b-6100-46d0-b128-a9f0de812cf9",
        "colab": {
          "base_uri": "https://localhost:8080/"
        }
      },
      "outputs": [
        {
          "output_type": "stream",
          "name": "stdout",
          "text": [
            "1년 후 날짜: October 2nd, 2026\n",
            "캘린더 상 1년 후 날짜: October 2nd, 2026\n"
          ]
        }
      ],
      "source": [
        "# 1년 후 날짜\n",
        "dD=ql.Period(1,ql.Years)\n",
        "D1=today+dD\n",
        "print('1년 후 날짜:',D1)\n",
        "D2=kr_cal.advance(today,dD)\n",
        "print('캘린더 상 1년 후 날짜:',D2)"
      ]
    },
    {
      "cell_type": "code",
      "execution_count": 26,
      "id": "ae012d54-0435-4a7c-b3b5-12b838fbbc75",
      "metadata": {
        "id": "ae012d54-0435-4a7c-b3b5-12b838fbbc75",
        "outputId": "13ee936c-7c8f-480c-a133-5d5eaa716f20",
        "colab": {
          "base_uri": "https://localhost:8080/"
        }
      },
      "outputs": [
        {
          "output_type": "stream",
          "name": "stdout",
          "text": [
            "365일 후 날짜: October 2nd, 2026\n",
            "캘린더 상 365일 후 날짜: April 2nd, 2027\n"
          ]
        }
      ],
      "source": [
        "# 365일 후 날짜\n",
        "dD=ql.Period(365,ql.Days)\n",
        "D1=today+dD\n",
        "print('365일 후 날짜:',D1)\n",
        "D2=kr_cal.advance(today,dD)\n",
        "print('캘린더 상 365일 후 날짜:',D2)"
      ]
    },
    {
      "cell_type": "code",
      "execution_count": 29,
      "id": "f48a4f2f-a6ac-465f-990c-77ea5386f5ef",
      "metadata": {
        "id": "f48a4f2f-a6ac-465f-990c-77ea5386f5ef",
        "outputId": "6dd50984-ca96-4961-fd56-9a9dde61b523",
        "colab": {
          "base_uri": "https://localhost:8080/"
        }
      },
      "outputs": [
        {
          "output_type": "execute_result",
          "data": {
            "text/plain": [
              "(Date(3,10,2025),\n",
              " Date(6,10,2025),\n",
              " Date(7,10,2025),\n",
              " Date(8,10,2025),\n",
              " Date(9,10,2025))"
            ]
          },
          "metadata": {},
          "execution_count": 29
        }
      ],
      "source": [
        "# 대한민국 휴일 날짜 정보 출력\n",
        "t1=ql.Date(1,10,2025)\n",
        "t2=ql.Date(15,10,2025)\n",
        "kr_cal.holidayList(t1,t2)"
      ]
    },
    {
      "cell_type": "code",
      "execution_count": 30,
      "id": "dba5447a-9c7b-4c4c-a51c-38f59398304a",
      "metadata": {
        "id": "dba5447a-9c7b-4c4c-a51c-38f59398304a",
        "outputId": "9ab23190-630d-4aea-e374-dccb57b94db8",
        "colab": {
          "base_uri": "https://localhost:8080/"
        }
      },
      "outputs": [
        {
          "output_type": "execute_result",
          "data": {
            "text/plain": [
              "(Date(1,1,2024),\n",
              " Date(9,2,2024),\n",
              " Date(12,2,2024),\n",
              " Date(1,3,2024),\n",
              " Date(10,4,2024),\n",
              " Date(1,5,2024),\n",
              " Date(6,5,2024),\n",
              " Date(15,5,2024),\n",
              " Date(6,6,2024),\n",
              " Date(15,8,2024),\n",
              " Date(16,9,2024),\n",
              " Date(17,9,2024),\n",
              " Date(18,9,2024),\n",
              " Date(1,10,2024),\n",
              " Date(3,10,2024),\n",
              " Date(9,10,2024),\n",
              " Date(25,12,2024),\n",
              " Date(31,12,2024))"
            ]
          },
          "metadata": {},
          "execution_count": 30
        }
      ],
      "source": [
        "t1=ql.Date(1,1,2024)\n",
        "t2=ql.Date(31,12,2024)\n",
        "kr_cal.holidayList(t1,t2)"
      ]
    },
    {
      "cell_type": "code",
      "execution_count": 31,
      "id": "e378ef7e-e472-4b77-8cbe-26d559596630",
      "metadata": {
        "id": "e378ef7e-e472-4b77-8cbe-26d559596630",
        "outputId": "62302d6c-c4be-433c-b821-e502ba10a566",
        "colab": {
          "base_uri": "https://localhost:8080/"
        }
      },
      "outputs": [
        {
          "output_type": "execute_result",
          "data": {
            "text/plain": [
              "18"
            ]
          },
          "metadata": {},
          "execution_count": 31
        }
      ],
      "source": [
        "len(kr_cal.holidayList(t1,t2))"
      ]
    },
    {
      "cell_type": "code",
      "execution_count": 33,
      "id": "37d9682c-c0f0-445d-91d6-2bd8a026e4b7",
      "metadata": {
        "id": "37d9682c-c0f0-445d-91d6-2bd8a026e4b7",
        "outputId": "9f2e9b69-6a06-4fb3-cb05-41340ffdc14a",
        "colab": {
          "base_uri": "https://localhost:8080/",
          "height": 35
        }
      },
      "outputs": [
        {
          "output_type": "execute_result",
          "data": {
            "text/plain": [
              "'Thursday'"
            ],
            "application/vnd.google.colaboratory.intrinsic+json": {
              "type": "string"
            }
          },
          "metadata": {},
          "execution_count": 33
        }
      ],
      "source": [
        "import datetime\n",
        "datetime.date(2024, 8, 15).strftime('%A')"
      ]
    },
    {
      "cell_type": "code",
      "execution_count": 34,
      "id": "2cfc32b1-5f84-4a5f-b8de-d95ae4fa01de",
      "metadata": {
        "id": "2cfc32b1-5f84-4a5f-b8de-d95ae4fa01de"
      },
      "outputs": [],
      "source": [
        "# Quantlib 날짜를 입력값으로 받아서 무슨 요일인지 출력해 주는 함수\n",
        "def ql_weekday(date):\n",
        "    import datetime\n",
        "    # date는 quantlib 날짜 객체 입력값\n",
        "    y=date.year()\n",
        "    m=date.month()\n",
        "    d=date.dayOfMonth()\n",
        "    return datetime.date(y,m,d).strftime('%A')"
      ]
    },
    {
      "cell_type": "code",
      "execution_count": 35,
      "id": "b72f9d37-0346-4412-ac57-75eba584afd9",
      "metadata": {
        "id": "b72f9d37-0346-4412-ac57-75eba584afd9",
        "outputId": "80bcd6ce-10d1-4c20-8b5b-e0d0813243ef",
        "colab": {
          "base_uri": "https://localhost:8080/",
          "height": 35
        }
      },
      "outputs": [
        {
          "output_type": "execute_result",
          "data": {
            "text/plain": [
              "'Wednesday'"
            ],
            "application/vnd.google.colaboratory.intrinsic+json": {
              "type": "string"
            }
          },
          "metadata": {},
          "execution_count": 35
        }
      ],
      "source": [
        "ql_weekday(Date(26,6,2024))"
      ]
    },
    {
      "cell_type": "code",
      "execution_count": 37,
      "id": "1b49b7fa-32f3-439d-9d2a-aab4fb13cb5a",
      "metadata": {
        "id": "1b49b7fa-32f3-439d-9d2a-aab4fb13cb5a",
        "outputId": "f25ebd4f-97df-494b-cef9-8caac833b8a9",
        "colab": {
          "base_uri": "https://localhost:8080/"
        }
      },
      "outputs": [
        {
          "output_type": "stream",
          "name": "stdout",
          "text": [
            "2020년부터 2030년까지의 휴일 개수: 168\n",
            "2020년부터 2030년까지의 휴일 개수 중 주말 제외: 168\n"
          ]
        }
      ],
      "source": [
        "import QuantLib as ql\n",
        "\n",
        "# 한국 달력 생성\n",
        "kr_cal = ql.SouthKorea()\n",
        "\n",
        "# 2020년부터 2030년까지의 날짜 설정\n",
        "start_date = ql.Date(1, 1, 2020)\n",
        "end_date = ql.Date(31, 12, 2030)\n",
        "\n",
        "# 휴일 개수 리턴\n",
        "Ncal=len(kr_cal.holidayList(start_date,end_date))\n",
        "\n",
        "# 토요일과 일요일이 아닌 휴일 출력\n",
        "non_weekend_holidays = [date for date in kr_cal.holidayList(start_date, end_date)\n",
        "                        if date.weekday() not in [7, 1]]\n",
        "\n",
        "print(\"2020년부터 2030년까지의 휴일 개수:\",Ncal)\n",
        "print(\"2020년부터 2030년까지의 휴일 개수 중 주말 제외:\",len(non_weekend_holidays))"
      ]
    },
    {
      "cell_type": "code",
      "execution_count": 38,
      "id": "5522f6a6-562b-4675-8dfe-04bf2ae87190",
      "metadata": {
        "id": "5522f6a6-562b-4675-8dfe-04bf2ae87190",
        "outputId": "b2054c6a-11ba-4534-debe-ef84241a6ee4",
        "colab": {
          "base_uri": "https://localhost:8080/"
        }
      },
      "outputs": [
        {
          "output_type": "execute_result",
          "data": {
            "text/plain": [
              "168"
            ]
          },
          "metadata": {},
          "execution_count": 38
        }
      ],
      "source": [
        "len(non_weekend_holidays)"
      ]
    },
    {
      "cell_type": "code",
      "execution_count": 41,
      "id": "25c12141-8775-4eb0-847c-def69e4b8ad2",
      "metadata": {
        "id": "25c12141-8775-4eb0-847c-def69e4b8ad2",
        "outputId": "1b2618ba-1eb8-40c3-9685-eb5d0d3bd113",
        "colab": {
          "base_uri": "https://localhost:8080/"
        }
      },
      "outputs": [
        {
          "output_type": "execute_result",
          "data": {
            "text/plain": [
              "40"
            ]
          },
          "metadata": {},
          "execution_count": 41
        }
      ],
      "source": [
        "t1=ql.Date(1,3,2024)\n",
        "t2=ql.Date(30,4,2024)\n",
        "kr_cal.businessDaysBetween(t1,t2)"
      ]
    },
    {
      "cell_type": "code",
      "execution_count": 42,
      "id": "ac88b236-2aaf-4d00-8a0e-f07f7d257f18",
      "metadata": {
        "id": "ac88b236-2aaf-4d00-8a0e-f07f7d257f18",
        "outputId": "1fa2c0a2-f3ca-4c81-f8c5-24d799d55eb9",
        "colab": {
          "base_uri": "https://localhost:8080/"
        }
      },
      "outputs": [
        {
          "output_type": "execute_result",
          "data": {
            "text/plain": [
              "39"
            ]
          },
          "metadata": {},
          "execution_count": 42
        }
      ],
      "source": [
        "# 임시휴일을 추가해 보자\n",
        "kr_cal.addHoliday(Date(11,4,2024))\n",
        "kr_cal.businessDaysBetween(t1,t2)"
      ]
    },
    {
      "cell_type": "code",
      "execution_count": 43,
      "id": "b219d1b5-142c-4567-978f-e1806db0f27b",
      "metadata": {
        "id": "b219d1b5-142c-4567-978f-e1806db0f27b",
        "outputId": "53921425-9d77-4834-f717-a263c8a53f2c",
        "colab": {
          "base_uri": "https://localhost:8080/"
        }
      },
      "outputs": [
        {
          "output_type": "execute_result",
          "data": {
            "text/plain": [
              "40"
            ]
          },
          "metadata": {},
          "execution_count": 43
        }
      ],
      "source": [
        "# 특정 휴일 삭제\n",
        "kr_cal.removeHoliday(Date(11,4,2024))\n",
        "kr_cal.businessDaysBetween(t1,t2)"
      ]
    },
    {
      "cell_type": "code",
      "execution_count": 39,
      "id": "5214801d-13e8-4805-bd38-c6859c578769",
      "metadata": {
        "tags": [],
        "id": "5214801d-13e8-4805-bd38-c6859c578769"
      },
      "outputs": [],
      "source": [
        "import QuantLib as ql\n",
        "\n",
        "# 캘린더 정보 읽어오기\n",
        "jpn_cal=ql.Japan()\n",
        "kr_cal=ql.SouthKorea()\n",
        "# 미국은 NYSE,SOFR 등 기초자산에 따라\n",
        "# 추가 매개변수 지정 필요\n",
        "us_cal=ql.UnitedStates(ql.UnitedStates.SOFR)"
      ]
    },
    {
      "cell_type": "code",
      "execution_count": 40,
      "id": "230e6a44-e326-406b-9da9-4201d6f4fdb2",
      "metadata": {
        "tags": [],
        "id": "230e6a44-e326-406b-9da9-4201d6f4fdb2",
        "outputId": "6e739160-42b9-4cf4-80cf-5d5eb6d9e9ab",
        "colab": {
          "base_uri": "https://localhost:8080/"
        }
      },
      "outputs": [
        {
          "output_type": "stream",
          "name": "stdout",
          "text": [
            "일본의 영업일수:242\n",
            "미국의 영업일수:248\n",
            "대한민국의 영업일수:246\n",
            "3국의 결합 영업일수:223\n"
          ]
        }
      ],
      "source": [
        "# 각 나라의 거래 휴일을 결합시켜보자\n",
        "D1=ql.Date(1,1,2026)\n",
        "D2=ql.Date(31,12,2026)\n",
        "J_cal=ql.JointCalendar(jpn_cal, us_cal, kr_cal)\n",
        "\n",
        "print('일본의 영업일수:{0}'.format(jpn_cal.businessDaysBetween(D1,D2)))\n",
        "print('미국의 영업일수:{0}'.format(us_cal.businessDaysBetween(D1,D2)))\n",
        "print('대한민국의 영업일수:{0}'.format(kr_cal.businessDaysBetween(D1,D2)))\n",
        "print('3국의 결합 영업일수:{0}'.format(J_cal.businessDaysBetween(D1,D2)))"
      ]
    },
    {
      "cell_type": "markdown",
      "id": "e92f1f37-1cca-401d-86ae-705bdf4aa32d",
      "metadata": {
        "id": "e92f1f37-1cca-401d-86ae-705bdf4aa32d"
      },
      "source": [
        "### ELS 스텝다운 상품은 보통 3년만기 6개월 마다 조기상환 시점이 존재한다. 2025년 10월1일 발행하는 상품의 6개월 조기상환일을 자동으로 생성하여 보아라."
      ]
    },
    {
      "cell_type": "code",
      "execution_count": 44,
      "id": "c07cdf07-00d0-4af4-895e-a37fcfeca527",
      "metadata": {
        "tags": [],
        "id": "c07cdf07-00d0-4af4-895e-a37fcfeca527"
      },
      "outputs": [],
      "source": [
        "#2025년 10월 1일부터 3년 6개월 스텝다운 날짜 생성하기\n",
        "from QuantLib import Date, Period, SouthKorea, Schedule\n",
        "from QuantLib import Following, DateGeneration, Months\n",
        "\n",
        "effective_date=Date(1,10,2025) # 유효시작날짜\n",
        "termination_date=Date(1,10,2028) # 만기날짜\n",
        "tenor=Period(6,Months) # 6개월마다\n",
        "calendar=SouthKorea() # 대한민국 달력사용\n",
        "business_convention=Following # 휴일과 겹치면 다음 영업일\n",
        "termination_business_convention=Following # 만기날짜가 휴일이면 다음 영업일\n",
        "# DateGeneration.forward면 시작날짜부터 tenor마다 뒤로 가면서 날짜를 찾는 것이고\n",
        "# backward면 만기날짜부터 tenor마다 앞으로 오면서 날짜를 찾는 것임\n",
        "date_generation=DateGeneration.Forward\n",
        "end_of_month=False # True면 날짜의 달의 마지막 날짜로 조정\n",
        "\n",
        "ss=Schedule(effective_date,\n",
        "            termination_date,\n",
        "            tenor,\n",
        "            calendar,\n",
        "            business_convention,\n",
        "            termination_business_convention,\n",
        "            date_generation,\n",
        "            end_of_month)"
      ]
    },
    {
      "cell_type": "code",
      "execution_count": 45,
      "id": "d983af45-b2b8-468d-9a7d-312ff37af315",
      "metadata": {
        "tags": [],
        "id": "d983af45-b2b8-468d-9a7d-312ff37af315",
        "outputId": "75aa5b88-c6e5-4f90-9d86-b3fb621775b5",
        "colab": {
          "base_uri": "https://localhost:8080/"
        }
      },
      "outputs": [
        {
          "output_type": "stream",
          "name": "stdout",
          "text": [
            "1 October 1st, 2025\n",
            "2 April 1st, 2026\n",
            "3 October 1st, 2026\n",
            "4 April 1st, 2027\n",
            "5 October 1st, 2027\n",
            "6 April 3rd, 2028\n",
            "7 October 6th, 2028\n"
          ]
        }
      ],
      "source": [
        "for i,date in enumerate(ss):\n",
        "    # i는 순서 (0부터 시작)\n",
        "    # date는 ss에 들어 있는 날짜\n",
        "    print(i+1,date)"
      ]
    },
    {
      "cell_type": "code",
      "execution_count": 46,
      "id": "dc865e4c-9851-495a-9c0b-5190be876b83",
      "metadata": {
        "tags": [],
        "id": "dc865e4c-9851-495a-9c0b-5190be876b83"
      },
      "outputs": [],
      "source": [
        "date_generation=DateGeneration.Backward\n",
        "end_of_month=True\n",
        "ss=Schedule(effective_date,\n",
        "            termination_date,\n",
        "            tenor,\n",
        "            calendar,\n",
        "            business_convention,\n",
        "            termination_business_convention,\n",
        "            date_generation,\n",
        "            end_of_month)"
      ]
    },
    {
      "cell_type": "code",
      "execution_count": 47,
      "id": "c51bb1a7-010d-4350-8a71-00dcf0f03f41",
      "metadata": {
        "tags": [],
        "id": "c51bb1a7-010d-4350-8a71-00dcf0f03f41",
        "outputId": "2e3c9918-7fd6-40ab-ac69-5044228e75c3",
        "colab": {
          "base_uri": "https://localhost:8080/"
        }
      },
      "outputs": [
        {
          "output_type": "stream",
          "name": "stdout",
          "text": [
            "1 October 1st, 2025\n",
            "2 April 1st, 2026\n",
            "3 October 1st, 2026\n",
            "4 April 1st, 2027\n",
            "5 October 1st, 2027\n",
            "6 April 3rd, 2028\n",
            "7 October 6th, 2028\n"
          ]
        }
      ],
      "source": [
        "for i,date in enumerate(ss):\n",
        "    # i는 순서 (0부터 시작)\n",
        "    # d는 ss에 들어 있는 날짜\n",
        "    print(i+1,date)"
      ]
    },
    {
      "cell_type": "markdown",
      "id": "264b0a01-c969-449e-8919-7fc06859ef68",
      "metadata": {
        "id": "264b0a01-c969-449e-8919-7fc06859ef68"
      },
      "source": [
        "### Day count convention: 20% 명목금리에 대해 2024년부터 2년 동안 적용되는 실제 금리를 Actual/360에 의해 구해 보아라."
      ]
    },
    {
      "cell_type": "code",
      "execution_count": 48,
      "id": "20cdc9cf-e9f6-4cd5-b58b-d093867371f9",
      "metadata": {
        "tags": [],
        "id": "20cdc9cf-e9f6-4cd5-b58b-d093867371f9",
        "outputId": "8fcfb84b-501b-4b23-b1c1-8c27ca9c09c0",
        "colab": {
          "base_uri": "https://localhost:8080/"
        }
      },
      "outputs": [
        {
          "output_type": "stream",
          "name": "stdout",
          "text": [
            "Actual/360로 계산된 날짜 간의 차이: 730\n",
            "30/360으로 계산된 날짜 간의 차이: 719\n"
          ]
        }
      ],
      "source": [
        "import QuantLib as ql\n",
        "\n",
        "# Actual/360 날짜 계산 방법을 사용하여 날짜 간의 차이 계산\n",
        "start_date = ql.Date(1, 1, 2024)\n",
        "end_date = ql.Date(31, 12, 2025)\n",
        "actual360 = ql.Actual360()\n",
        "\n",
        "days_actual360 = actual360.dayCount(start_date, end_date)\n",
        "print(\"Actual/360로 계산된 날짜 간의 차이:\", days_actual360)\n",
        "\n",
        "# 30/360 날짜 계산 방법을 사용하여 날짜 간의 차이 계산\n",
        "thirty360 = ql.Thirty360(ql.Thirty360.European)\n",
        "\n",
        "days_thirty360 = thirty360.dayCount(start_date, end_date)\n",
        "print(\"30/360으로 계산된 날짜 간의 차이:\", days_thirty360)"
      ]
    },
    {
      "cell_type": "code",
      "execution_count": 49,
      "id": "c341e8d6-5d7f-4a5b-a70a-a5fe60b32799",
      "metadata": {
        "id": "c341e8d6-5d7f-4a5b-a70a-a5fe60b32799",
        "outputId": "fd073f9f-fc33-4573-aa26-7a04e58e3f70",
        "colab": {
          "base_uri": "https://localhost:8080/"
        }
      },
      "outputs": [
        {
          "output_type": "stream",
          "name": "stdout",
          "text": [
            "Actual/Actual로 계산된 날짜 간의 차이: 730\n"
          ]
        }
      ],
      "source": [
        "# Actual/Actual 날짜 계산 방법을 사용하여 날짜 간의 차이 계산\n",
        "actual_actual = ql.ActualActual(ql.ActualActual.ISMA)\n",
        "\n",
        "days_actual_actual = actual_actual.dayCount(start_date, end_date)\n",
        "print(\"Actual/Actual로 계산된 날짜 간의 차이:\", days_actual_actual)"
      ]
    },
    {
      "cell_type": "code",
      "execution_count": 51,
      "id": "6532c9c0-fa53-4888-bcdd-2a5e22d2902d",
      "metadata": {
        "tags": [],
        "id": "6532c9c0-fa53-4888-bcdd-2a5e22d2902d",
        "outputId": "17b71619-7c4a-44c3-d9a5-70ed037c2614",
        "colab": {
          "base_uri": "https://localhost:8080/"
        }
      },
      "outputs": [
        {
          "output_type": "stream",
          "name": "stdout",
          "text": [
            "ActualActual을 사용한 연간 이자: 0.30000000000000004\n",
            "Actual/365을 사용한 연간 이자: 0.30739726027397263\n",
            "Thirty360을 사용한 연간 이자: 0.3077777777777778\n",
            "Actual/360을 사용한 연간 이자: 0.3116666666666667\n"
          ]
        }
      ],
      "source": [
        "# 금리 계산\n",
        "annual_interest_rate = 0.20\n",
        "\n",
        "start_date = ql.Date(1, 1, 2024)\n",
        "end_date = ql.Date(15, 7, 2025)\n",
        "\n",
        "# ActualActual을 사용하여 연간 이자 계산\n",
        "actual_actual_day_counter =ql.ActualActual(ql.ActualActual.ISMA)\n",
        "actual_actual_interest = annual_interest_rate * actual_actual_day_counter.yearFraction(start_date, end_date)\n",
        "print(\"ActualActual을 사용한 연간 이자:\", actual_actual_interest)\n",
        "\n",
        "# Actual/365를 사용하여 연간 이자 계산\n",
        "actual_365_day_counter = ql.Actual365Fixed()\n",
        "actual_365_interest = annual_interest_rate * actual_365_day_counter.yearFraction(start_date, end_date)\n",
        "print(\"Actual/365을 사용한 연간 이자:\", actual_365_interest)\n",
        "\n",
        "# Thirty360을 사용하여 연간 이자 계산\n",
        "thirty360_day_counter = ql.Thirty360(ql.Thirty360.BondBasis)\n",
        "thirty360_interest = annual_interest_rate * thirty360_day_counter.yearFraction(start_date, end_date)\n",
        "print(\"Thirty360을 사용한 연간 이자:\", thirty360_interest)\n",
        "\n",
        "# Actual/360을 사용하여 연간 이자 계산\n",
        "actual_360_day_counter = ql.Actual360()\n",
        "actual_360_interest = annual_interest_rate * actual_360_day_counter.yearFraction(start_date, end_date)\n",
        "print(\"Actual/360을 사용한 연간 이자:\", actual_360_interest)"
      ]
    },
    {
      "cell_type": "markdown",
      "id": "4bf9ef9a-a297-4ac3-81c8-7e761a22bc74",
      "metadata": {
        "id": "4bf9ef9a-a297-4ac3-81c8-7e761a22bc74"
      },
      "source": [
        "# 블랙숄즈 공식 사용하기"
      ]
    },
    {
      "cell_type": "code",
      "execution_count": null,
      "id": "fe2cc806-b9a4-4f88-9d6d-1f5d0a863de7",
      "metadata": {
        "tags": [],
        "id": "fe2cc806-b9a4-4f88-9d6d-1f5d0a863de7"
      },
      "outputs": [],
      "source": [
        "import QuantLib as ql\n",
        "\n",
        "today=ql.Date.todaysDate()\n",
        "ql.Settings.instance().evaluationDate=today # 프라이싱 날짜 픽싱"
      ]
    },
    {
      "cell_type": "code",
      "execution_count": null,
      "id": "c0e9368c-43af-4258-bee5-59318e216418",
      "metadata": {
        "tags": [],
        "id": "c0e9368c-43af-4258-bee5-59318e216418"
      },
      "outputs": [],
      "source": [
        "T_period=ql.Period(3, ql.Months) # 만기 tenor\n",
        "kr_cal=ql.SouthKorea()\n",
        "T=kr_cal.advance(today,T_period) # 만기날짜 확정\n",
        "u=ql.SimpleQuote(100.0) # 기초자산 현재가 설정\n",
        "r=ql.SimpleQuote(0.04) # riskfree rate\n",
        "sig=ql.SimpleQuote(0.2) # 연변동성 설정"
      ]
    },
    {
      "cell_type": "code",
      "execution_count": null,
      "id": "ecc5755b-139c-4b1c-b30b-a1423513bc22",
      "metadata": {
        "tags": [],
        "id": "ecc5755b-139c-4b1c-b30b-a1423513bc22"
      },
      "outputs": [],
      "source": [
        "# 이자율과 변동성 커브로 설정\n",
        "rf_curve=ql.FlatForward(today,ql.QuoteHandle(r),ql.ActualActual(ql.ActualActual.ISMA))\n",
        "vol_curve=ql.BlackConstantVol(today,kr_cal,ql.QuoteHandle(sig),ql.ActualActual(ql.ActualActual.ISMA))"
      ]
    },
    {
      "cell_type": "code",
      "execution_count": null,
      "id": "be3a5313-62d9-4e49-980c-a3d04fc7b664",
      "metadata": {
        "tags": [],
        "id": "be3a5313-62d9-4e49-980c-a3d04fc7b664"
      },
      "outputs": [],
      "source": [
        "# 커브 핸들로 확장\n",
        "rf_curve_handle=ql.YieldTermStructureHandle(rf_curve)\n",
        "vol_curve_handle=ql.BlackVolTermStructureHandle(vol_curve)"
      ]
    },
    {
      "cell_type": "code",
      "execution_count": null,
      "id": "20912bf9-8c30-4fc0-b908-1478317a8fa5",
      "metadata": {
        "tags": [],
        "id": "20912bf9-8c30-4fc0-b908-1478317a8fa5"
      },
      "outputs": [],
      "source": [
        "# 옵션종류 세팅 및 평가  process 설정\n",
        "K=ql.PlainVanillaPayoff(ql.Option.Call,100) # 콜옵션, 행사가격 100\n",
        "option=ql.EuropeanOption(K,ql.EuropeanExercise(T)) # 만기에 유럽형 행사\n",
        "process=ql.BlackScholesProcess(ql.QuoteHandle(u),\n",
        "                               rf_curve_handle,\n",
        "                               vol_curve_handle)\n",
        "# Analytic Formula로 평가엔진 결합\n",
        "engine=ql.AnalyticEuropeanEngine(process)\n",
        "option.setPricingEngine(engine)"
      ]
    },
    {
      "cell_type": "code",
      "execution_count": null,
      "id": "932f86ac-8345-4a83-b2a0-6ee94e827276",
      "metadata": {
        "tags": [],
        "id": "932f86ac-8345-4a83-b2a0-6ee94e827276",
        "outputId": "00d2ff2e-8607-4d90-f9d7-cd7a5be8e7a7"
      },
      "outputs": [
        {
          "name": "stdout",
          "output_type": "stream",
          "text": [
            "옵션가격: 4.485236409022083\n",
            "델타: 0.5596176923702426\n",
            "감마: 0.039447933090788895\n",
            "1% 베가: 0.19723966545394447\n",
            "1bp 르호: 0.0012869133207000544\n",
            "1Day 세타: -0.027256569674733822\n"
          ]
        }
      ],
      "source": [
        "# 가격과 Greeks\n",
        "print('옵션가격:',option.NPV())\n",
        "print('델타:',option.delta())\n",
        "print('감마:',option.gamma())\n",
        "print('1% 베가:',option.vega()/100)\n",
        "print('1bp 르호:',option.rho()/10000)\n",
        "print('1Day 세타:',option.theta()/365)"
      ]
    },
    {
      "cell_type": "code",
      "execution_count": null,
      "id": "ef731539-9d8f-4f60-8f22-be12651d6b01",
      "metadata": {
        "id": "ef731539-9d8f-4f60-8f22-be12651d6b01",
        "outputId": "557d04b2-2122-42be-866e-6047d27ea2c6"
      },
      "outputs": [
        {
          "name": "stdout",
          "output_type": "stream",
          "text": [
            "옵션가격: 7.747683875672607\n",
            "델타: 0.7382311454904811\n",
            "감마: 0.030999845988993815\n",
            "1% 베가: 0.1708866510143286\n",
            "1bp 르호: 0.0017441646600206968\n",
            "1Day 세타: -0.026372957524948552\n"
          ]
        }
      ],
      "source": [
        "# Automatic Re-Pricing\n",
        "u.setValue(105)\n",
        "print('옵션가격:',option.NPV())\n",
        "print('델타:',option.delta())\n",
        "print('감마:',option.gamma())\n",
        "print('1% 베가:',option.vega()/100)\n",
        "print('1bp 르호:',option.rho()/10000)\n",
        "print('1Day 세타:',option.theta()/365)"
      ]
    },
    {
      "cell_type": "code",
      "execution_count": null,
      "id": "deae5032-84fc-402c-841d-025fa182086f",
      "metadata": {
        "id": "deae5032-84fc-402c-841d-025fa182086f"
      },
      "outputs": [],
      "source": [
        "# 함수 형태로 작성\n",
        "def BSformula_Q(S,K,r,sig,T):\n",
        "    # T: 잔연만기 (in years)\n",
        "    import QuantLib as ql\n",
        "    import datetime\n",
        "\n",
        "    today=ql.Date.todaysDate()\n",
        "    ql.Settings.instance().evaluationDate=today # 프라이싱 날짜 픽싱\n",
        "    T_period=ql.Period(round(T*12), ql.Months) # 만기 tenor\n",
        "    kr_cal=ql.SouthKorea()\n",
        "    T=kr_cal.advance(today,T_period) # 만기날짜 확정\n",
        "    u=ql.SimpleQuote(S) # 기초자산 현재가 설정\n",
        "    r=ql.SimpleQuote(r) # riskfree rate\n",
        "    sig=ql.SimpleQuote(sig) # 연변동성 설정\n",
        "\n",
        "    rf_curve=ql.FlatForward(today,ql.QuoteHandle(r),ql.ActualActual(ql.ActualActual.ISMA))\n",
        "    vol_curve=ql.BlackConstantVol(today,kr_cal,ql.QuoteHandle(sig),ql.ActualActual(ql.ActualActual.ISMA))\n",
        "\n",
        "    rf_curve_handle=ql.YieldTermStructureHandle(rf_curve)\n",
        "    vol_curve_handle=ql.BlackVolTermStructureHandle(vol_curve)\n",
        "\n",
        "    # 옵션종류 세팅 및 평가  process 설정\n",
        "    K=ql.PlainVanillaPayoff(ql.Option.Call,K) # 콜옵션, 행사가격 100\n",
        "    option=ql.EuropeanOption(K,ql.EuropeanExercise(T)) # 만기에 유럽형 행사\n",
        "    process=ql.BlackScholesProcess(ql.QuoteHandle(u),\n",
        "                                   rf_curve_handle,\n",
        "                                   vol_curve_handle)\n",
        "    # Analytic Formula로 평가엔진 결합\n",
        "    engine=ql.AnalyticEuropeanEngine(process)\n",
        "    option.setPricingEngine(engine)\n",
        "    return option.NPV()"
      ]
    },
    {
      "cell_type": "code",
      "execution_count": null,
      "id": "4160bb99-c1fb-442c-b8db-2d74b054fa82",
      "metadata": {
        "id": "4160bb99-c1fb-442c-b8db-2d74b054fa82",
        "outputId": "2a2c24fc-9518-4310-b71c-ab0eea288493"
      },
      "outputs": [
        {
          "data": {
            "text/plain": [
              "4.485236409022083"
            ]
          },
          "execution_count": 58,
          "metadata": {},
          "output_type": "execute_result"
        }
      ],
      "source": [
        "BSformula_Q(100,100,0.04,0.2,0.25)"
      ]
    },
    {
      "cell_type": "code",
      "execution_count": null,
      "id": "744ed081-1b37-4310-8f3b-f2dcdad04810",
      "metadata": {
        "id": "744ed081-1b37-4310-8f3b-f2dcdad04810",
        "outputId": "7299ac52-de9a-4bd2-ea16-5bd8b3ce2bf0"
      },
      "outputs": [
        {
          "data": {
            "text/plain": [
              "Text(0, 0.5, 'option value')"
            ]
          },
          "execution_count": 59,
          "metadata": {},
          "output_type": "execute_result"
        },
        {
          "data": {
            "image/png": "[encoded data removed]",
            "text/plain": [
              "<Figure size 640x480 with 1 Axes>"
            ]
          },
          "metadata": {},
          "output_type": "display_data"
        }
      ],
      "source": [
        "# 주가 변화에 따르는 옵션 가치 변화 그래프\n",
        "import numpy as np\n",
        "import matplotlib.pyplot as plt\n",
        "\n",
        "xs=np.linspace(50,150,100)\n",
        "ys=[]\n",
        "\n",
        "for s in xs:\n",
        "    ys.append(BSformula_Q(s,100,0.04,0.2,0.25))\n",
        "\n",
        "plt.plot(xs,np.array(ys))\n",
        "plt.title('Call Option Value')\n",
        "plt.xlabel('Underlying asset')\n",
        "plt.ylabel('option value')"
      ]
    },
    {
      "cell_type": "code",
      "execution_count": null,
      "id": "632caccb-7ef7-4c93-89e6-25b3034dcd15",
      "metadata": {
        "scrolled": true,
        "id": "632caccb-7ef7-4c93-89e6-25b3034dcd15",
        "outputId": "2bbc4798-79fa-4dd7-cc10-3f6d4c25c6c7"
      },
      "outputs": [
        {
          "data": {
            "text/plain": [
              "Text(0, 0.5, 'option value')"
            ]
          },
          "execution_count": 60,
          "metadata": {},
          "output_type": "execute_result"
        },
        {
          "data": {
            "image/png": "[encoded data removed]",
            "text/plain": [
              "<Figure size 640x480 with 1 Axes>"
            ]
          },
          "metadata": {},
          "output_type": "display_data"
        }
      ],
      "source": [
        "# 주가 변화에 따르는 옵션 가치 변화 그래프\n",
        "import cupy as cp\n",
        "import matplotlib.pyplot as plt\n",
        "\n",
        "xs=cp.linspace(50,150,100)\n",
        "ys=cp.zeros(len(xs))\n",
        "for i,c in enumerate(xs):\n",
        "    u.setValue(float(cp.asnumpy(c)))\n",
        "    ys[i]=option.NPV()\n",
        "plt.plot(cp.asnumpy(xs),cp.asnumpy(ys))\n",
        "plt.title('Call Option Value')\n",
        "plt.xlabel('Underlying asset')\n",
        "plt.ylabel('option value')"
      ]
    },
    {
      "cell_type": "markdown",
      "id": "47d0e344-30f3-4e0b-a2d1-6e8d94dc128a",
      "metadata": {
        "id": "47d0e344-30f3-4e0b-a2d1-6e8d94dc128a"
      },
      "source": [
        "# Knock In Barrier Option"
      ]
    },
    {
      "cell_type": "code",
      "execution_count": null,
      "id": "93ea1c40-df54-4d83-9502-0a045da5c7da",
      "metadata": {
        "id": "93ea1c40-df54-4d83-9502-0a045da5c7da"
      },
      "outputs": [],
      "source": [
        "import QuantLib as ql\n",
        "import datetime\n",
        "\n",
        "today=datetime.date.today() # 현재 시스템 날짜\n",
        "# 날짜 객체로 생성\n",
        "today=ql.Date(today.day, today.month, today.year)\n",
        "ql.Settings.instance().evaluationDate=today # 프라이싱 날짜 픽싱"
      ]
    },
    {
      "cell_type": "code",
      "execution_count": null,
      "id": "a3eb4477-696e-4267-ab0f-ca66c3237bca",
      "metadata": {
        "id": "a3eb4477-696e-4267-ab0f-ca66c3237bca"
      },
      "outputs": [],
      "source": [
        "T_period=ql.Period(3, ql.Months) # 만기 tenor\n",
        "kr_cal=ql.SouthKorea()\n",
        "T=kr_cal.advance(today,T_period,ql.Following) # 만기날짜 확정\n",
        "u=ql.SimpleQuote(100.0) # 기초자산 현재가 설정\n",
        "r=ql.SimpleQuote(0.01) # riskfree rate\n",
        "sig=ql.SimpleQuote(0.2) # 연변동성 설정"
      ]
    },
    {
      "cell_type": "code",
      "execution_count": null,
      "id": "538f43bf-54b4-4ea7-8bb9-099d1781c35c",
      "metadata": {
        "id": "538f43bf-54b4-4ea7-8bb9-099d1781c35c"
      },
      "outputs": [],
      "source": [
        "# 이자율과 변동성 커브로 설정\n",
        "rf_curve=ql.FlatForward(today,ql.QuoteHandle(r),ql.ActualActual(ql.ActualActual.ISMA))\n",
        "vol_curve=ql.BlackConstantVol(today,kr_cal,ql.QuoteHandle(sig),ql.ActualActual(ql.ActualActual.ISMA))"
      ]
    },
    {
      "cell_type": "code",
      "execution_count": null,
      "id": "7f65424f-2dc6-490a-9b22-0275c7cf4f40",
      "metadata": {
        "id": "7f65424f-2dc6-490a-9b22-0275c7cf4f40"
      },
      "outputs": [],
      "source": [
        "# 커브 핸들로 확장\n",
        "rf_curve_handle=ql.YieldTermStructureHandle(rf_curve)\n",
        "vol_curve_handle=ql.BlackVolTermStructureHandle(vol_curve)"
      ]
    },
    {
      "cell_type": "code",
      "execution_count": null,
      "id": "737252fe-7969-4515-89e4-bc2bd650aa69",
      "metadata": {
        "id": "737252fe-7969-4515-89e4-bc2bd650aa69"
      },
      "outputs": [],
      "source": [
        "# 옵션종류 세팅 및 평가  process 설정\n",
        "Barrier, rebate = 120.0, 0.0\n",
        "option=ql.BarrierOption(ql.Barrier.UpIn,Barrier,rebate,\n",
        "                        ql.PlainVanillaPayoff(ql.Option.Call,100),\n",
        "                        ql.EuropeanExercise(T))\n",
        "\n",
        "process=ql.BlackScholesProcess(ql.QuoteHandle(u),\n",
        "                               rf_curve_handle,\n",
        "                               vol_curve_handle)\n",
        "# Analytic Formula로 평가엔진 결합\n",
        "engine=ql.AnalyticBarrierEngine(process)\n",
        "option.setPricingEngine(engine)"
      ]
    },
    {
      "cell_type": "code",
      "execution_count": null,
      "id": "2e976e06-f7ec-425b-88b8-99ae0ef9b2c9",
      "metadata": {
        "id": "2e976e06-f7ec-425b-88b8-99ae0ef9b2c9",
        "outputId": "85232f02-149d-4efb-d293-cabdcc94ea5c"
      },
      "outputs": [
        {
          "data": {
            "text/plain": [
              "1.3068309371231932"
            ]
          },
          "execution_count": 66,
          "metadata": {},
          "output_type": "execute_result"
        }
      ],
      "source": [
        "option.NPV()"
      ]
    },
    {
      "cell_type": "code",
      "execution_count": null,
      "id": "5998c423-4807-45a4-80c9-5b6ad2fc7212",
      "metadata": {
        "id": "5998c423-4807-45a4-80c9-5b6ad2fc7212",
        "outputId": "21880485-3f6e-414e-c1af-3b9a099425c0"
      },
      "outputs": [
        {
          "ename": "RuntimeError",
          "evalue": "delta not provided",
          "output_type": "error",
          "traceback": [
            "\u001b[1;31m---------------------------------------------------------------------------\u001b[0m",
            "\u001b[1;31mRuntimeError\u001b[0m                              Traceback (most recent call last)",
            "\u001b[1;32m~\\AppData\\Local\\Temp\\ipykernel_14844\\3775023207.py\u001b[0m in \u001b[0;36m?\u001b[1;34m()\u001b[0m\n\u001b[1;32m----> 1\u001b[1;33m \u001b[0moption\u001b[0m\u001b[1;33m.\u001b[0m\u001b[0mdelta\u001b[0m\u001b[1;33m(\u001b[0m\u001b[1;33m)\u001b[0m \u001b[1;31m# 민감도를 구할 수 없는 공식도 있음\u001b[0m\u001b[1;33m\u001b[0m\u001b[1;33m\u001b[0m\u001b[0m\n\u001b[0m",
            "\u001b[1;32m~\\.conda\\envs\\tf\\lib\\site-packages\\QuantLib\\QuantLib.py\u001b[0m in \u001b[0;36m?\u001b[1;34m(self)\u001b[0m\n\u001b[0;32m  17115\u001b[0m     \u001b[1;32mdef\u001b[0m \u001b[0mdelta\u001b[0m\u001b[1;33m(\u001b[0m\u001b[0mself\u001b[0m\u001b[1;33m)\u001b[0m\u001b[1;33m:\u001b[0m\u001b[1;33m\u001b[0m\u001b[1;33m\u001b[0m\u001b[0m\n\u001b[0;32m  17116\u001b[0m         \u001b[1;34mr\"\"\"delta(OneAssetOption self) -> Real\"\"\"\u001b[0m\u001b[1;33m\u001b[0m\u001b[1;33m\u001b[0m\u001b[0m\n\u001b[1;32m> 17117\u001b[1;33m         \u001b[1;32mreturn\u001b[0m \u001b[0m_QuantLib\u001b[0m\u001b[1;33m.\u001b[0m\u001b[0mOneAssetOption_delta\u001b[0m\u001b[1;33m(\u001b[0m\u001b[0mself\u001b[0m\u001b[1;33m)\u001b[0m\u001b[1;33m\u001b[0m\u001b[1;33m\u001b[0m\u001b[0m\n\u001b[0m",
            "\u001b[1;31mRuntimeError\u001b[0m: delta not provided"
          ]
        }
      ],
      "source": [
        "option.delta() # 민감도를 구할 수 없는 공식도 있음"
      ]
    },
    {
      "cell_type": "code",
      "execution_count": null,
      "id": "f06df8c7-6ee3-440f-8624-87dac28da2d2",
      "metadata": {
        "id": "f06df8c7-6ee3-440f-8624-87dac28da2d2"
      },
      "outputs": [],
      "source": [
        "# 민감도를 구하기 위해 함수로 만든다.\n",
        "def UpInCallRebate_Q(tday,matday,S,K, r,sig,Barrier,rebate):\n",
        "    # tday,matday: '년도-월-일'의 형식으로 입력할 것\n",
        "    # Tm: 잔여만기 (in Months)\n",
        "\n",
        "    import QuantLib as ql\n",
        "    from datetime import datetime\n",
        "\n",
        "    # 문자열을 datetime 객체로 변환\n",
        "    d_obj = datetime.strptime(tday, '%Y-%m-%d')\n",
        "    d_obj2 = datetime.strptime(matday, '%Y-%m-%d')\n",
        "    # Date 객체 생성\n",
        "    today = ql.Date(d_obj.day, d_obj.month, d_obj.year)\n",
        "    mat_day = ql.Date(d_obj2.day, d_obj2.month, d_obj2.year)\n",
        "    ql.Settings.instance().evaluationDate=today # 프라이싱 날짜 픽싱\n",
        "\n",
        "    u=ql.SimpleQuote(S) # 기초자산 현재가 설정\n",
        "    r=ql.SimpleQuote(r) # riskfree rate\n",
        "    sig=ql.SimpleQuote(sig) # 연변동성 설정\n",
        "    # 이자율과 변동성 커브로 설정\n",
        "    kr_cal=ql.SouthKorea()\n",
        "    rf_curve=ql.FlatForward(today,ql.QuoteHandle(r),ql.ActualActual(ql.ActualActual.ISMA))\n",
        "    vol_curve=ql.BlackConstantVol(today,kr_cal,ql.QuoteHandle(sig),ql.ActualActual(ql.ActualActual.ISMA))\n",
        "    # 커브 핸들로 확장\n",
        "    rf_curve_handle=ql.YieldTermStructureHandle(rf_curve)\n",
        "    vol_curve_handle=ql.BlackVolTermStructureHandle(vol_curve)\n",
        "\n",
        "\n",
        "    # 옵션종류 세팅 및 평가  process 설정\n",
        "    Barrier, rebate = 120.0, 0\n",
        "    option=ql.BarrierOption(ql.Barrier.UpIn,Barrier,rebate,\n",
        "                            ql.PlainVanillaPayoff(ql.Option.Call,100),\n",
        "                            ql.EuropeanExercise(mat_day))\n",
        "\n",
        "    process=ql.BlackScholesProcess(ql.QuoteHandle(u),\n",
        "                                   rf_curve_handle,\n",
        "                                   vol_curve_handle)\n",
        "    # Analytic Formula로 평가엔진 결합\n",
        "    engine=ql.AnalyticBarrierEngine(process)\n",
        "    option.setPricingEngine(engine)\n",
        "    price=option.NPV()\n",
        "    return price"
      ]
    },
    {
      "cell_type": "code",
      "execution_count": null,
      "id": "f62ebc37-a7e2-4cbb-8904-acf6bbb87847",
      "metadata": {
        "id": "f62ebc37-a7e2-4cbb-8904-acf6bbb87847"
      },
      "outputs": [],
      "source": [
        "def Greeks(tday,matday,S,K, r,sig,Barrier,rebate):\n",
        "    from datetime import datetime,timedelta\n",
        "    # 문자열을 datetime 객체로 변환\n",
        "    d_obj = datetime.strptime(tday, '%Y-%m-%d')\n",
        "    # 하루를 더하여 새로운 날짜 생성\n",
        "    new_datetime_obj = d_obj + timedelta(days=1)\n",
        "    # 새로운 날짜를 문자열로 변환\n",
        "    t2day = new_datetime_obj.strftime('%Y-%m-%d')\n",
        "\n",
        "    dp=S*0.01\n",
        "    P0=UpInCallRebate_Q(tday,matday,S,K, r,sig,Barrier,rebate)\n",
        "    Pup=UpInCallRebate_Q(tday,matday,S+dp,K, r,sig,Barrier,rebate)\n",
        "    Pdn=UpInCallRebate_Q(tday,matday,S-dp,K, r,sig,Barrier,rebate)\n",
        "    delta= (Pup-Pdn)/(2*dp)\n",
        "    gamma=(Pup-2*P0+Pdn)/(dp*dp)\n",
        "    Pv=UpInCallRebate_Q(tday,matday,S,K, r,sig+0.01,Barrier,rebate)\n",
        "    vega=Pv-P0\n",
        "    Pr=UpInCallRebate_Q(tday,matday,S,K, r+0.0001,sig,Barrier,rebate)\n",
        "    rho=Pr-P0\n",
        "    Pt=UpInCallRebate_Q(t2day,matday,S,K, r,sig,Barrier,rebate)\n",
        "    theta=Pt-P0\n",
        "    print('가격:',P0)\n",
        "    print('델타:',delta)\n",
        "    print('감마:',gamma)\n",
        "    print('1% 베가:',vega)\n",
        "    print('1bp 르호:',rho)\n",
        "    print('1Day 세타:',theta)"
      ]
    },
    {
      "cell_type": "code",
      "execution_count": null,
      "id": "3d0deb6e-7b52-4515-adc8-13cafc93d1e4",
      "metadata": {
        "id": "3d0deb6e-7b52-4515-adc8-13cafc93d1e4",
        "outputId": "33ba0198-bc3a-4b0d-a783-8445e7c28801"
      },
      "outputs": [
        {
          "data": {
            "text/plain": [
              "1.3068309371231932"
            ]
          },
          "execution_count": 88,
          "metadata": {},
          "output_type": "execute_result"
        }
      ],
      "source": [
        "UpInCallRebate_Q('2024-03-29','2024-6-30',100,100,0.01,0.2,120,0)"
      ]
    },
    {
      "cell_type": "code",
      "execution_count": null,
      "id": "a5461cc4-2e9f-4cab-a61e-26ce7185cf60",
      "metadata": {
        "id": "a5461cc4-2e9f-4cab-a61e-26ce7185cf60",
        "outputId": "55fd4a52-5bb3-4221-838f-71b1656bdf36"
      },
      "outputs": [
        {
          "name": "stdout",
          "output_type": "stream",
          "text": [
            "가격: 1.3068309371231932\n",
            "델타: 0.29439891289142295\n",
            "감마: 0.051562809151527\n",
            "1% 베가: 0.26611841123679425\n",
            "1bp 르호: 0.000623680054298692\n",
            "1Day 세타: 0.0\n"
          ]
        }
      ],
      "source": [
        "Greeks('2024-4-5','2024-7-5',100,100,0.01,0.2,120,0)"
      ]
    },
    {
      "cell_type": "code",
      "execution_count": null,
      "id": "684fa4f9-4a0b-42ad-bc41-2b6ddacf44bb",
      "metadata": {
        "id": "684fa4f9-4a0b-42ad-bc41-2b6ddacf44bb"
      },
      "outputs": [],
      "source": [
        "from datetime import datetime,timedelta\n",
        "# 문자열을 datetime 객체로 변환\n",
        "d_obj = datetime.strptime('2024-03-29', '%Y-%m-%d')\n",
        "# 하루를 더하여 새로운 날짜 생성\n",
        "new_datetime_obj = d_obj + timedelta(days=1)\n",
        "# 새로운 날짜를 문자열로 변환\n",
        "t2day = new_datetime_obj.strftime('%Y-%m-%d')"
      ]
    },
    {
      "cell_type": "code",
      "execution_count": null,
      "id": "7036cddf-eb0b-48cf-b480-379c57c39617",
      "metadata": {
        "id": "7036cddf-eb0b-48cf-b480-379c57c39617",
        "outputId": "352786b0-22cb-48a1-d4ae-21a56680cfaf"
      },
      "outputs": [
        {
          "data": {
            "text/plain": [
              "'2024-03-30'"
            ]
          },
          "execution_count": 91,
          "metadata": {},
          "output_type": "execute_result"
        }
      ],
      "source": [
        "t2day"
      ]
    },
    {
      "cell_type": "code",
      "execution_count": null,
      "id": "3319f482-13aa-4e4e-9624-85ebe9a46f8c",
      "metadata": {
        "id": "3319f482-13aa-4e4e-9624-85ebe9a46f8c",
        "outputId": "427ccf6d-dcd1-4ca9-f71d-570594085c59"
      },
      "outputs": [
        {
          "data": {
            "text/plain": [
              "1.3068309371231932"
            ]
          },
          "execution_count": 92,
          "metadata": {},
          "output_type": "execute_result"
        }
      ],
      "source": [
        "UpInCallRebate_Q('2024-03-29','2024-6-30',100,100,0.01,0.2,120,0)"
      ]
    },
    {
      "cell_type": "code",
      "execution_count": null,
      "id": "49858b57-85ec-4b87-b5dc-169c6922d0c8",
      "metadata": {
        "id": "49858b57-85ec-4b87-b5dc-169c6922d0c8",
        "outputId": "c4ab9334-19bb-4b6c-dbd4-7b12a6b6bc01"
      },
      "outputs": [
        {
          "data": {
            "text/plain": [
              "1.3068309371231932"
            ]
          },
          "execution_count": 93,
          "metadata": {},
          "output_type": "execute_result"
        }
      ],
      "source": [
        "UpInCallRebate_Q('2024-04-12','2024-6-30',100,100,0.01,0.2,120,0)"
      ]
    },
    {
      "cell_type": "code",
      "execution_count": null,
      "id": "bab34d55-0644-4991-9a72-b8d51563d353",
      "metadata": {
        "id": "bab34d55-0644-4991-9a72-b8d51563d353"
      },
      "outputs": [],
      "source": []
    }
  ],
  "metadata": {
    "kernelspec": {
      "display_name": "Python 3 (ipykernel)",
      "language": "python",
      "name": "python3"
    },
    "language_info": {
      "codemirror_mode": {
        "name": "ipython",
        "version": 3
      },
      "file_extension": ".py",
      "mimetype": "text/x-python",
      "name": "python",
      "nbconvert_exporter": "python",
      "pygments_lexer": "ipython3",
      "version": "3.10.12"
    },
    "colab": {
      "provenance": []
    }
  },
  "nbformat": 4,
  "nbformat_minor": 5
}