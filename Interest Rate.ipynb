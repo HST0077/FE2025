{
  "cells": [
    {
      "cell_type": "markdown",
      "id": "bcce1560-5acb-4952-adb3-08e2dc6941de",
      "metadata": {
        "id": "bcce1560-5acb-4952-adb3-08e2dc6941de"
      },
      "source": [
        "### 백만원의 원금(principal)을 연 3% 단리(simple interest)로 예금에 투자하면 3년후에는 얼마가 될까?"
      ]
    },
    {
      "cell_type": "code",
      "execution_count": 1,
      "id": "b3ba1c57-fb86-4a5e-9a50-5098608c0b6a",
      "metadata": {
        "tags": [],
        "id": "b3ba1c57-fb86-4a5e-9a50-5098608c0b6a",
        "outputId": "3f2a119b-6d41-4190-fa61-096f2bc31649",
        "colab": {
          "base_uri": "https://localhost:8080/"
        }
      },
      "outputs": [
        {
          "output_type": "stream",
          "name": "stdout",
          "text": [
            "단리법에 의한 미래가치: 1090000.0\n"
          ]
        }
      ],
      "source": [
        "P=10**6\n",
        "i=0.03\n",
        "n=3\n",
        "\n",
        "# Future value\n",
        "F=P*(1+i*n)\n",
        "print('단리법에 의한 미래가치:',F)"
      ]
    },
    {
      "cell_type": "markdown",
      "id": "51b03d59-7bef-40d9-8b29-a0f02f2db50c",
      "metadata": {
        "id": "51b03d59-7bef-40d9-8b29-a0f02f2db50c"
      },
      "source": [
        "### 백만원의 원금(principal)을 연간 명목이자율 3% 일복리(Daily compounding interest)를 주는 증권사 CMA에 투자하면 3년 후에는 얼마가 될까?"
      ]
    },
    {
      "cell_type": "code",
      "execution_count": 2,
      "id": "3f368f00-5028-499a-826b-f9de2077813d",
      "metadata": {
        "tags": [],
        "id": "3f368f00-5028-499a-826b-f9de2077813d",
        "outputId": "3a326d6e-2aea-40c7-acfa-ef50ce438e9c",
        "colab": {
          "base_uri": "https://localhost:8080/"
        }
      },
      "outputs": [
        {
          "output_type": "stream",
          "name": "stdout",
          "text": [
            "일 복리법에 의한 미래가치: 1094170.2369885808\n"
          ]
        }
      ],
      "source": [
        "P=10**6\n",
        "i=0.03\n",
        "n=3\n",
        "\n",
        "# Future value\n",
        "F=P*(1+i/365)**(365*3)\n",
        "print('일 복리법에 의한 미래가치:',F)"
      ]
    },
    {
      "cell_type": "code",
      "execution_count": 3,
      "id": "80cc8d14-0c16-4936-88f0-9be45b3b4c6d",
      "metadata": {
        "tags": [],
        "id": "80cc8d14-0c16-4936-88f0-9be45b3b4c6d",
        "outputId": "d17f188e-d83a-4ac3-d556-da2058656ceb",
        "colab": {
          "base_uri": "https://localhost:8080/"
        }
      },
      "outputs": [
        {
          "output_type": "stream",
          "name": "stdout",
          "text": [
            "1시간단위 복리법에 의한 미래가치: 1094174.1150821922\n"
          ]
        }
      ],
      "source": [
        "P=10**6\n",
        "i=0.03\n",
        "n=3\n",
        "\n",
        "# Furture value\n",
        "F=P*(1+i/(365*24))**(365*24*3)\n",
        "print('1시간단위 복리법에 의한 미래가치:',F)"
      ]
    },
    {
      "cell_type": "code",
      "execution_count": 4,
      "id": "78119239-7edf-41f5-b2eb-3dbbdbd1e72f",
      "metadata": {
        "tags": [],
        "id": "78119239-7edf-41f5-b2eb-3dbbdbd1e72f",
        "outputId": "75a01fc7-a81b-4aff-f32c-00103381b527",
        "colab": {
          "base_uri": "https://localhost:8080/"
        }
      },
      "outputs": [
        {
          "output_type": "stream",
          "name": "stdout",
          "text": [
            "연속 복리법에 의한 미래가치: 1094174.28370521\n"
          ]
        }
      ],
      "source": [
        "# Continuous Compounding\n",
        "from sympy import limit,symbols,oo\n",
        "\n",
        "n=symbols('n',real=True)\n",
        "# Furture value\n",
        "F=limit(P*(1+i/n)**(n*3),n,oo)\n",
        "print('연속 복리법에 의한 미래가치:',F.evalf())"
      ]
    },
    {
      "cell_type": "code",
      "execution_count": 5,
      "id": "33d2c7ae-af14-4690-b3ed-c393ea8164e2",
      "metadata": {
        "tags": [],
        "id": "33d2c7ae-af14-4690-b3ed-c393ea8164e2",
        "outputId": "cc41b4bd-be03-4246-c64a-b9b80e874b64",
        "colab": {
          "base_uri": "https://localhost:8080/",
          "height": 37
        }
      },
      "outputs": [
        {
          "output_type": "execute_result",
          "data": {
            "text/plain": [
              "1094174.28370521"
            ],
            "text/latex": "$\\displaystyle 1094174.28370521$"
          },
          "metadata": {},
          "execution_count": 5
        }
      ],
      "source": [
        "from sympy import exp\n",
        "\n",
        "P*exp(3*i)"
      ]
    },
    {
      "cell_type": "code",
      "execution_count": 6,
      "id": "0236ef23-e862-4b52-8f41-e116fcee59b2",
      "metadata": {
        "tags": [],
        "id": "0236ef23-e862-4b52-8f41-e116fcee59b2",
        "outputId": "f3053890-8f9b-4d6e-a31a-c6c11c85b905",
        "colab": {
          "base_uri": "https://localhost:8080/",
          "height": 38
        }
      },
      "outputs": [
        {
          "output_type": "execute_result",
          "data": {
            "text/plain": [
              "E"
            ],
            "text/latex": "$\\displaystyle e$"
          },
          "metadata": {},
          "execution_count": 6
        }
      ],
      "source": [
        "# 자연상수 확인\n",
        "limit((1+1/n)**n,n,oo)"
      ]
    },
    {
      "cell_type": "code",
      "execution_count": 7,
      "id": "5e5bc645-c516-498a-8b2a-97b23f19dabd",
      "metadata": {
        "tags": [],
        "id": "5e5bc645-c516-498a-8b2a-97b23f19dabd",
        "outputId": "efa47370-f696-441e-d279-663fbd414e51",
        "colab": {
          "base_uri": "https://localhost:8080/",
          "height": 38
        }
      },
      "outputs": [
        {
          "output_type": "execute_result",
          "data": {
            "text/plain": [
              "E"
            ],
            "text/latex": "$\\displaystyle e$"
          },
          "metadata": {},
          "execution_count": 7
        }
      ],
      "source": [
        "limit((1+n)**(1/n),n,0)"
      ]
    },
    {
      "cell_type": "code",
      "execution_count": 8,
      "id": "d1c01d2d-da61-49e1-b191-9dd0fc5567fc",
      "metadata": {
        "tags": [],
        "id": "d1c01d2d-da61-49e1-b191-9dd0fc5567fc",
        "outputId": "bb2780b3-e0f5-45f6-cef1-624b6438cb3e",
        "colab": {
          "base_uri": "https://localhost:8080/"
        }
      },
      "outputs": [
        {
          "output_type": "stream",
          "name": "stdout",
          "text": [
            "일 복리법에 의한 미래가치: 1030453.263600551\n"
          ]
        }
      ],
      "source": [
        "# 1년 후 Future value\n",
        "F=P*(1+i/365)**(365*1)\n",
        "print('일 복리법에 의한 미래가치:',F)"
      ]
    },
    {
      "cell_type": "markdown",
      "id": "ffe2cde3-44cb-4d09-af54-329f7cfc0b3a",
      "metadata": {
        "id": "ffe2cde3-44cb-4d09-af54-329f7cfc0b3a"
      },
      "source": [
        "### Find the corresponding effective rates for 3% compounded monthly."
      ]
    },
    {
      "cell_type": "code",
      "execution_count": 9,
      "id": "3e92cee2-6361-40d1-a7e9-fbae9096e919",
      "metadata": {
        "tags": [],
        "id": "3e92cee2-6361-40d1-a7e9-fbae9096e919",
        "outputId": "22c78000-c6f8-47b2-ce25-bf7c4f1336d0",
        "colab": {
          "base_uri": "https://localhost:8080/"
        }
      },
      "outputs": [
        {
          "output_type": "stream",
          "name": "stdout",
          "text": [
            "effective rate: 0.030415956913506736\n"
          ]
        }
      ],
      "source": [
        "n,rn=12,0.03\n",
        "\n",
        "re=(1+rn/n)**n-1\n",
        "print('effective rate:', re)"
      ]
    },
    {
      "cell_type": "markdown",
      "id": "c563cc48-7466-4656-8ba2-6540eaef1c09",
      "metadata": {
        "id": "c563cc48-7466-4656-8ba2-6540eaef1c09"
      },
      "source": [
        "### A young couple has made a nonrefundable deposit of the first month’s rent equal to 1,000 on a 6-month apartment lease. The next day they find a different apartment that they like just as well, but its monthly rent is only 900. They plan to be in the apartment only 12 months. Should they switch to the new apartment? Assume an interest rate of 12%."
      ]
    },
    {
      "cell_type": "code",
      "execution_count": 10,
      "id": "21c884fb-eab5-4c3b-846d-8bccea22a388",
      "metadata": {
        "tags": [],
        "id": "21c884fb-eab5-4c3b-846d-8bccea22a388"
      },
      "outputs": [],
      "source": [
        "def NPV_CF(CF,r):\n",
        "    # CF는 매 기간의 초에 발생하는 것으로 가정\n",
        "    # r은 매 기간 말에 해당하는 금리 가정\n",
        "    n=len(CF)\n",
        "    npv=0\n",
        "    for i in range(n):\n",
        "        npv += CF[i]/(1+r)**i\n",
        "    return npv"
      ]
    },
    {
      "cell_type": "code",
      "execution_count": 11,
      "id": "0615e275-d5dc-49e2-865e-647d948aef7e",
      "metadata": {
        "tags": [],
        "id": "0615e275-d5dc-49e2-865e-647d948aef7e",
        "outputId": "24b0b972-236b-4648-f990-c29d384e8d2b",
        "colab": {
          "base_uri": "https://localhost:8080/"
        }
      },
      "outputs": [
        {
          "output_type": "stream",
          "name": "stdout",
          "text": [
            "첫번째 대안의 NPV: 11367.628248219475\n",
            "두번째 대안의 NPV: 11230.865423397529\n"
          ]
        }
      ],
      "source": [
        "import numpy as np\n",
        "\n",
        "rm=0.01 # monthly interest rate\n",
        "CF1=1000*np.ones(12)\n",
        "CF2=900*np.ones(12)\n",
        "CF2[0]=1900 # 첫달 cash outflow 수정\n",
        "print('첫번째 대안의 NPV:',NPV_CF(CF1,rm))\n",
        "print('두번째 대안의 NPV:',NPV_CF(CF2,rm))"
      ]
    },
    {
      "cell_type": "markdown",
      "id": "bc935e2c-d081-4ed5-ba63-1fa1b93bc228",
      "metadata": {
        "tags": [],
        "id": "bc935e2c-d081-4ed5-ba63-1fa1b93bc228"
      },
      "source": [
        "### 현재 시점에서 2를 투자하면 1년 후에는 1, 2년 후에는 1, 3년 후에는 1의 현금흐름이 발생한다고 한다. 이 투자의 수익율은 얼마라고 할 수 있을까?"
      ]
    },
    {
      "cell_type": "code",
      "execution_count": null,
      "id": "f49d4163-831f-4ef2-8ba0-06cdcb7261be",
      "metadata": {
        "tags": [],
        "id": "f49d4163-831f-4ef2-8ba0-06cdcb7261be",
        "outputId": "f8e16625-cb6d-4d13-fd8c-052f5bfc13a3"
      },
      "outputs": [
        {
          "name": "stdout",
          "output_type": "stream",
          "text": [
            "내부수익률: 0.233751928528259\n"
          ]
        }
      ],
      "source": [
        "from sympy import symbols, solve\n",
        "\n",
        "# 변수 정의\n",
        "irr = symbols('irr', real=True)\n",
        "\n",
        "# 현금흐름 방정식 (NPV = 0)\n",
        "NPV = -2 + 1/(1+irr) + 1/(1+irr)**2 + 1/(1+irr)**3\n",
        "\n",
        "# IRR 계산\n",
        "IRR = solve(NPV, irr)\n",
        "\n",
        "# IRR의 결과는 허수해 2개를 포함하고 있음\n",
        "print(\"내부수익률:\", IRR[2].evalf())"
      ]
    },
    {
      "cell_type": "code",
      "execution_count": null,
      "id": "73060b48-237f-4460-bf42-301fedb2e013",
      "metadata": {
        "tags": [],
        "id": "73060b48-237f-4460-bf42-301fedb2e013",
        "outputId": "170d86ad-cc93-46dc-b901-86f370b76682"
      },
      "outputs": [
        {
          "data": {
            "text/plain": [
              "[-5/6 + (-1/2 - sqrt(3)*I/2)*(sqrt(417)/72 + 8/27)**(1/3) + 7/(36*(-1/2 - sqrt(3)*I/2)*(sqrt(417)/72 + 8/27)**(1/3)),\n",
              " -5/6 + 7/(36*(-1/2 + sqrt(3)*I/2)*(sqrt(417)/72 + 8/27)**(1/3)) + (-1/2 + sqrt(3)*I/2)*(sqrt(417)/72 + 8/27)**(1/3),\n",
              " -5/6 + 7/(36*(sqrt(417)/72 + 8/27)**(1/3)) + (sqrt(417)/72 + 8/27)**(1/3)]"
            ]
          },
          "execution_count": 11,
          "metadata": {},
          "output_type": "execute_result"
        }
      ],
      "source": [
        "IRR"
      ]
    },
    {
      "cell_type": "code",
      "execution_count": null,
      "id": "c1fb95d9-c0f6-4516-833f-3c6d254af96c",
      "metadata": {
        "id": "c1fb95d9-c0f6-4516-833f-3c6d254af96c",
        "outputId": "5ef184df-e50b-4824-c8e2-931b3f112362"
      },
      "outputs": [
        {
          "data": {
            "text/plain": [
              "0.23375192852825877"
            ]
          },
          "execution_count": 16,
          "metadata": {},
          "output_type": "execute_result"
        }
      ],
      "source": [
        "# conda install -c conda-forge numpy-financial\n",
        "import numpy_financial as npf\n",
        "\n",
        "CF=[-2,1,1,1] # 현금흐름 정의\n",
        "npf.irr(CF) # 내부수익율구하기"
      ]
    },
    {
      "cell_type": "code",
      "execution_count": 16,
      "id": "b757ba86-ca63-453d-8c4b-4c802f098886",
      "metadata": {
        "tags": [],
        "id": "b757ba86-ca63-453d-8c4b-4c802f098886",
        "outputId": "7f83506c-d1eb-44b3-8871-0de14fea68d6",
        "colab": {
          "base_uri": "https://localhost:8080/",
          "height": 239
        }
      },
      "outputs": [
        {
          "output_type": "stream",
          "name": "stdout",
          "text": [
            "   Time  CashFlow              DF            Disc_CF\n",
            "0   0.5       2.5       1/(r + 1)        2.5/(r + 1)\n",
            "1   1.0       2.5   (r + 1)**(-2)     2.5/(r + 1)**2\n",
            "2   1.5       2.5   (r + 1)**(-3)     2.5/(r + 1)**3\n",
            "3   2.0       2.5   (r + 1)**(-4)     2.5/(r + 1)**4\n",
            "4   2.5       2.5   (r + 1)**(-5)     2.5/(r + 1)**5\n",
            "5   3.0       2.5   (r + 1)**(-6)     2.5/(r + 1)**6\n",
            "6   3.5       2.5   (r + 1)**(-7)     2.5/(r + 1)**7\n",
            "7   4.0       2.5   (r + 1)**(-8)     2.5/(r + 1)**8\n",
            "8   4.5       2.5   (r + 1)**(-9)     2.5/(r + 1)**9\n",
            "9   5.0     102.5  (r + 1)**(-10)  102.5/(r + 1)**10\n"
          ]
        },
        {
          "output_type": "execute_result",
          "data": {
            "text/plain": [
              "0.0569797291000285"
            ],
            "text/latex": "$\\displaystyle 0.0569797291000285$"
          },
          "metadata": {},
          "execution_count": 16
        }
      ],
      "source": [
        "def bnd_irr(price, coupon_rate, freq, maturity, face_value):\n",
        "    import sympy as sp\n",
        "    import numpy as np\n",
        "    import pandas as pd\n",
        "\n",
        "    r = sp.symbols('r', positive=True)\n",
        "\n",
        "    # freq: 연 쿠폰 지급횟수\n",
        "    period = 1 / freq\n",
        "\n",
        "    T = np.arange(period, maturity + 0.001, period)\n",
        "    nT = np.arange(1, len(T) + 1)\n",
        "    Disc = 1 / (1 + r) ** nT  # 할인율 적용\n",
        "\n",
        "    # 현금흐름 계산\n",
        "    coupons = coupon_rate * face_value\n",
        "    CF = np.array([coupons / freq] * len(T))\n",
        "    CF[-1] += face_value  # 만기 원금 상환\n",
        "\n",
        "    # 할인 현금흐름\n",
        "    Disc_CF = CF * Disc  # Discounted Cash Flow\n",
        "\n",
        "    # 데이터프레임으로 보기\n",
        "    df = pd.DataFrame({\n",
        "        'Time': T,\n",
        "        'CashFlow': CF,\n",
        "        'DF': Disc,\n",
        "        'Disc_CF': Disc_CF\n",
        "    })\n",
        "\n",
        "    print(df)\n",
        "\n",
        "    # 합계 조건\n",
        "    col_sum = df.sum(axis=0)\n",
        "    SumP = col_sum['Disc_CF']\n",
        "    eq = price - SumP\n",
        "\n",
        "    sol = sp.solve(eq, r)\n",
        "    sol=sol[0]*freq # 연이율로 복원\n",
        "\n",
        "    return sol\n",
        "\n",
        "bnd_irr(97,0.05,2,5,100)"
      ]
    },
    {
      "cell_type": "markdown",
      "id": "54427499-b2e0-4204-aca4-dfab3dea88c2",
      "metadata": {
        "id": "54427499-b2e0-4204-aca4-dfab3dea88c2"
      },
      "source": [
        "### 1년 만기 5% 쿠폰의 채권은 95.24, 2년 만기 6% 쿠폰의 채권은 90.70, 3년만기 6.5% 쿠폰의 채권은 85에 거래되고 있다. 모두 할인채라고 할 때, 이 시점에서의 zero curve를 만들어 보아라."
      ]
    },
    {
      "cell_type": "code",
      "execution_count": null,
      "id": "7f839795-225f-492f-b42a-681e78f806d8",
      "metadata": {
        "tags": [],
        "id": "7f839795-225f-492f-b42a-681e78f806d8"
      },
      "outputs": [],
      "source": [
        "def bootstrap_zero_rates():\n",
        "    CFs = {\n",
        "        1: {'coupon': 5, 'price': 95.24},\n",
        "        2: {'coupon': 6, 'price': 90.70},\n",
        "        3: {'coupon': 6.5, 'price': 85.00}\n",
        "    }\n",
        "\n",
        "    zero_rates = {}\n",
        "\n",
        "    # 1년물: 단순히 역산\n",
        "    P1 = CFs[1]['price']\n",
        "    C1 = CFs[1]['coupon'] + 100\n",
        "    r1 = (C1 / P1) - 1\n",
        "    zero_rates[1] = r1\n",
        "\n",
        "    # 2년물: 1년 할인율 이용\n",
        "    P2 = CFs[2]['price']\n",
        "    C2 = CFs[2]['coupon']\n",
        "    total = C2 / (1 + r1)\n",
        "    r2 = ((100 + C2) / (P2 - total))**(1/1) - 1\n",
        "    zero_rates[2] = r2\n",
        "\n",
        "    # 3년물: 1, 2년 할인율 모두 이용\n",
        "    P3 = CFs[3]['price']\n",
        "    C3 = CFs[3]['coupon']\n",
        "    total = (C3 / (1 + r1)) + (C3 / (1 + r2)**2)\n",
        "    r3 = ((100 + C3) / (P3 - total))**(1/1) - 1\n",
        "    zero_rates[3] = r3\n",
        "\n",
        "    return zero_rates"
      ]
    },
    {
      "cell_type": "code",
      "execution_count": null,
      "id": "398ce67f-82fd-4e31-87d4-87dbeb4cf689",
      "metadata": {
        "tags": [],
        "id": "398ce67f-82fd-4e31-87d4-87dbeb4cf689",
        "outputId": "4611ba4f-47f7-40a5-de1b-5dfc6b6bcace"
      },
      "outputs": [
        {
          "name": "stdout",
          "output_type": "stream",
          "text": [
            "1년 만기 Zero Rate: 10.2478%\n",
            "2년 만기 Zero Rate: 24.3289%\n",
            "3년 만기 Zero Rate: 42.1912%\n"
          ]
        }
      ],
      "source": [
        "# 실행\n",
        "zeros = bootstrap_zero_rates()\n",
        "for year, rate in zeros.items():\n",
        "    print(f\"{year}년 만기 Zero Rate: {rate:.4%}\")"
      ]
    },
    {
      "cell_type": "code",
      "execution_count": null,
      "id": "74792866-c4ec-4379-870b-d28f48bd52aa",
      "metadata": {
        "tags": [],
        "id": "74792866-c4ec-4379-870b-d28f48bd52aa",
        "outputId": "6897098a-ff0b-45d1-9d4e-57a381ff6451"
      },
      "outputs": [
        {
          "data": {
            "image/png": "[encoded data removed]",
            "text/plain": [
              "<Figure size 800x500 with 1 Axes>"
            ]
          },
          "metadata": {},
          "output_type": "display_data"
        }
      ],
      "source": [
        "import matplotlib.pyplot as plt\n",
        "\n",
        "# 데이터 분리\n",
        "years = list(zeros.keys())\n",
        "rates = [zeros[yr] * 100 for yr in years]  # 퍼센트로 변환\n",
        "\n",
        "# 그래프 그리기\n",
        "plt.figure(figsize=(8, 5))\n",
        "plt.plot(years, rates, marker='o', linestyle='-', linewidth=2)\n",
        "plt.title(\"Zero Rate Curve (Bootstrapped)\", fontsize=14)\n",
        "plt.xlabel(\"Maturity (yrs)\", fontsize=12)\n",
        "plt.ylabel(\"YTM (%)\", fontsize=12)\n",
        "plt.grid(True)\n",
        "plt.xticks(years)\n",
        "plt.tight_layout()\n",
        "plt.show()"
      ]
    },
    {
      "cell_type": "code",
      "execution_count": null,
      "id": "64f27721-079c-4602-8b59-70e11392c21c",
      "metadata": {
        "id": "64f27721-079c-4602-8b59-70e11392c21c"
      },
      "outputs": [],
      "source": []
    }
  ],
  "metadata": {
    "kernelspec": {
      "display_name": "Python 3 (ipykernel)",
      "language": "python",
      "name": "python3"
    },
    "language_info": {
      "codemirror_mode": {
        "name": "ipython",
        "version": 3
      },
      "file_extension": ".py",
      "mimetype": "text/x-python",
      "name": "python",
      "nbconvert_exporter": "python",
      "pygments_lexer": "ipython3",
      "version": "3.10.12"
    },
    "colab": {
      "provenance": []
    }
  },
  "nbformat": 4,
  "nbformat_minor": 5
}