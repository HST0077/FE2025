{
 "cells": [
  {
   "cell_type": "markdown",
   "id": "4898f5d6-ed80-4b33-821d-4e476a319471",
   "metadata": {},
   "source": [
    "# Plain vanilla Option Pricing"
   ]
  },
  {
   "cell_type": "code",
   "execution_count": 1,
   "id": "2a2cf6d3-2d74-4fbb-9e65-ace333aeaa4a",
   "metadata": {
    "tags": []
   },
   "outputs": [
    {
     "data": {
      "text/plain": [
       "(0.500000000000000, 1.00000000000000)"
      ]
     },
     "execution_count": 1,
     "metadata": {},
     "output_type": "execute_result"
    }
   ],
   "source": [
    "import sympy as sp\n",
    "\n",
    "# 표준정규분포 누적확률밀도함수 (CDF)\n",
    "N = lambda x: (1 / 2) * (1 + sp.erf(x / sp.sqrt(2)))\n",
    "\n",
    "N(0),N(sp.oo)"
   ]
  },
  {
   "cell_type": "code",
   "execution_count": 2,
   "id": "01c8939d-9cd5-4853-b3c2-800e340f4e8d",
   "metadata": {
    "tags": []
   },
   "outputs": [
    {
     "data": {
      "text/latex": [
       "$\\displaystyle 0.5 \\left(K \\left(\\operatorname{erf}{\\left(\\frac{\\sqrt{2} \\left(- 2 T r + T \\sigma^{2} - 2 \\log{\\left(\\frac{S_{0}}{K} \\right)}\\right)}{4 \\sqrt{T} \\sigma} \\right)} - 1\\right) + S_{0} \\left(\\operatorname{erf}{\\left(\\frac{\\sqrt{2} \\left(T \\left(2 r + \\sigma^{2}\\right) + 2 \\log{\\left(\\frac{S_{0}}{K} \\right)}\\right)}{4 \\sqrt{T} \\sigma} \\right)} + 1\\right) e^{T r}\\right) e^{- T r}$"
      ],
      "text/plain": [
       "0.5*(K*(erf(sqrt(2)*(-2*T*r + T*sigma**2 - 2*log(S0/K))/(4*sqrt(T)*sigma)) - 1) + S0*(erf(sqrt(2)*(T*(2*r + sigma**2) + 2*log(S0/K))/(4*sqrt(T)*sigma)) + 1)*exp(T*r))*exp(-T*r)"
      ]
     },
     "execution_count": 2,
     "metadata": {},
     "output_type": "execute_result"
    }
   ],
   "source": [
    "# 변수 정의\n",
    "S0, K, r, sigma, T = sp.symbols('S0 K r sigma T')\n",
    "d1 = (sp.ln(S0 / K) + (r + sigma**2 / 2) * T) / (sigma * sp.sqrt(T))\n",
    "d2 = d1 - sigma * sp.sqrt(T)\n",
    "\n",
    "# Black-Scholes 공식\n",
    "C = S0 * N(d1) - K * sp.exp(-r * T) * N(d2)\n",
    "\n",
    "# 결과 출력\n",
    "C.simplify()"
   ]
  },
  {
   "cell_type": "code",
   "execution_count": 3,
   "id": "65b1afd5-4e18-4100-9d69-2f634623d1c3",
   "metadata": {
    "tags": []
   },
   "outputs": [
    {
     "data": {
      "text/latex": [
       "$\\displaystyle - \\frac{0.5 \\sqrt{2} K e^{- T r} e^{- \\frac{\\left(- \\sqrt{T} \\sigma + \\frac{T \\left(r + \\frac{\\sigma^{2}}{2}\\right) + \\log{\\left(\\frac{S_{0}}{K} \\right)}}{\\sqrt{T} \\sigma}\\right)^{2}}{2}}}{\\sqrt{\\pi} S_{0} \\sqrt{T} \\sigma} + 0.5 \\operatorname{erf}{\\left(\\frac{\\sqrt{2} \\left(T \\left(r + \\frac{\\sigma^{2}}{2}\\right) + \\log{\\left(\\frac{S_{0}}{K} \\right)}\\right)}{2 \\sqrt{T} \\sigma} \\right)} + 0.5 + \\frac{0.5 \\sqrt{2} e^{- \\frac{\\left(T \\left(r + \\frac{\\sigma^{2}}{2}\\right) + \\log{\\left(\\frac{S_{0}}{K} \\right)}\\right)^{2}}{2 T \\sigma^{2}}}}{\\sqrt{\\pi} \\sqrt{T} \\sigma}$"
      ],
      "text/plain": [
       "-0.5*sqrt(2)*K*exp(-T*r)*exp(-(-sqrt(T)*sigma + (T*(r + sigma**2/2) + log(S0/K))/(sqrt(T)*sigma))**2/2)/(sqrt(pi)*S0*sqrt(T)*sigma) + 0.5*erf(sqrt(2)*(T*(r + sigma**2/2) + log(S0/K))/(2*sqrt(T)*sigma)) + 0.5 + 0.5*sqrt(2)*exp(-(T*(r + sigma**2/2) + log(S0/K))**2/(2*T*sigma**2))/(sqrt(pi)*sqrt(T)*sigma)"
      ]
     },
     "execution_count": 3,
     "metadata": {},
     "output_type": "execute_result"
    }
   ],
   "source": [
    "# 델타 공식\n",
    "sp.diff(C,S0)"
   ]
  },
  {
   "cell_type": "code",
   "execution_count": 4,
   "id": "b0bfc6cd-d2c4-402f-8f07-0f3afcba7244",
   "metadata": {
    "tags": []
   },
   "outputs": [
    {
     "data": {
      "text/latex": [
       "$\\displaystyle 0$"
      ],
      "text/plain": [
       "0"
      ]
     },
     "execution_count": 4,
     "metadata": {},
     "output_type": "execute_result"
    }
   ],
   "source": [
    "# 델타 공식 증명\n",
    "expr=sp.diff(C,S0)-N(d1)\n",
    "expr.simplify()"
   ]
  },
  {
   "cell_type": "code",
   "execution_count": 5,
   "id": "049a9edd-e8ae-49c4-8fb4-2f32d30bc737",
   "metadata": {
    "tags": []
   },
   "outputs": [
    {
     "data": {
      "text/latex": [
       "$\\displaystyle \\frac{1}{S_{0} \\sqrt{T} \\sigma}$"
      ],
      "text/plain": [
       "1/(S0*sqrt(T)*sigma)"
      ]
     },
     "execution_count": 5,
     "metadata": {},
     "output_type": "execute_result"
    }
   ],
   "source": [
    "# (∂d1)/(∂S0 )\n",
    "sp.diff(d1,S0)"
   ]
  },
  {
   "cell_type": "code",
   "execution_count": 6,
   "id": "0fe7742c-ec04-429a-bdcb-9e56b5eb77ce",
   "metadata": {
    "tags": []
   },
   "outputs": [
    {
     "data": {
      "text/latex": [
       "$\\displaystyle \\frac{0.5 \\sqrt{2} e^{- \\frac{T r^{2}}{2 \\sigma^{2}} - \\frac{T r}{2} - \\frac{T \\sigma^{2}}{8} - \\frac{r \\log{\\left(\\frac{S_{0}}{K} \\right)}}{\\sigma^{2}} - \\frac{\\log{\\left(\\frac{S_{0}}{K} \\right)}^{2}}{2 T \\sigma^{2}}}}{\\sqrt{\\pi} K \\sqrt{T} \\sigma \\left(\\frac{S_{0}}{K}\\right)^{\\frac{3}{2}}}$"
      ],
      "text/plain": [
       "0.5*sqrt(2)*exp(-T*r**2/(2*sigma**2) - T*r/2 - T*sigma**2/8 - r*log(S0/K)/sigma**2 - log(S0/K)**2/(2*T*sigma**2))/(sqrt(pi)*K*sqrt(T)*sigma*(S0/K)**(3/2))"
      ]
     },
     "execution_count": 6,
     "metadata": {},
     "output_type": "execute_result"
    }
   ],
   "source": [
    "# 감마 공식\n",
    "gamma=sp.diff(C,S0,2).simplify()\n",
    "gamma"
   ]
  },
  {
   "cell_type": "code",
   "execution_count": 7,
   "id": "9bc12f95-71b6-4080-a61e-995c38a0dc92",
   "metadata": {
    "tags": []
   },
   "outputs": [
    {
     "data": {
      "text/latex": [
       "$\\displaystyle \\frac{\\sqrt{2} \\left(- K \\left(\\frac{S_{0}}{K}\\right)^{\\frac{3}{2}} + 1.0 S_{0} e^{\\frac{- T^{2} \\sigma^{2} \\left(4 r + \\sigma^{2}\\right) - 4 T r \\left(T r + 2 \\log{\\left(\\frac{S_{0}}{K} \\right)}\\right) + 4 T \\sigma^{2} x^{2} - 4 \\log{\\left(\\frac{S_{0}}{K} \\right)}^{2}}{8 T \\sigma^{2}}}\\right) e^{- \\frac{x^{2}}{2}}}{2 \\sqrt{\\pi} K S_{0} \\sqrt{T} \\sigma \\left(\\frac{S_{0}}{K}\\right)^{\\frac{3}{2}}}$"
      ],
      "text/plain": [
       "sqrt(2)*(-K*(S0/K)**(3/2) + 1.0*S0*exp((-T**2*sigma**2*(4*r + sigma**2) - 4*T*r*(T*r + 2*log(S0/K)) + 4*T*sigma**2*x**2 - 4*log(S0/K)**2)/(8*T*sigma**2)))*exp(-x**2/2)/(2*sqrt(pi)*K*S0*sqrt(T)*sigma*(S0/K)**(3/2))"
      ]
     },
     "execution_count": 7,
     "metadata": {},
     "output_type": "execute_result"
    }
   ],
   "source": [
    "# 감마공식 검증\n",
    "from sympy import sqrt, pi, exp, symbols\n",
    "\n",
    "x=symbols('x')\n",
    "\n",
    "# 표준정규분포 확률밀도함수 (PDF)\n",
    "n = lambda x: (1 / sqrt(2*pi))*exp(-x**2/2)\n",
    "expr=gamma-n(x)/(S0*sigma*sqrt(T))\n",
    "expr.simplify()"
   ]
  },
  {
   "cell_type": "code",
   "execution_count": 8,
   "id": "6fc8ea3a-7591-415d-a208-3a155b6f193f",
   "metadata": {
    "tags": []
   },
   "outputs": [
    {
     "data": {
      "text/latex": [
       "$\\displaystyle \\sqrt{T} - \\frac{T \\left(r + \\frac{\\sigma^{2}}{2}\\right) + \\log{\\left(\\frac{S_{0}}{K} \\right)}}{\\sqrt{T} \\sigma^{2}}$"
      ],
      "text/plain": [
       "sqrt(T) - (T*(r + sigma**2/2) + log(S0/K))/(sqrt(T)*sigma**2)"
      ]
     },
     "execution_count": 8,
     "metadata": {},
     "output_type": "execute_result"
    }
   ],
   "source": [
    "#(∂d1)/∂σ\n",
    "sp.diff(d1,sigma)"
   ]
  },
  {
   "cell_type": "code",
   "execution_count": 9,
   "id": "bfa2b209-6dc5-45f7-8cbf-59b45bdeb5ae",
   "metadata": {
    "tags": []
   },
   "outputs": [
    {
     "data": {
      "text/latex": [
       "$\\displaystyle \\frac{- T r + \\frac{T \\sigma^{2}}{2} - \\log{\\left(\\frac{S_{0}}{K} \\right)}}{\\sqrt{T} \\sigma^{2}}$"
      ],
      "text/plain": [
       "(-T*r + T*sigma**2/2 - log(S0/K))/(sqrt(T)*sigma**2)"
      ]
     },
     "execution_count": 9,
     "metadata": {},
     "output_type": "execute_result"
    }
   ],
   "source": [
    "_.simplify()"
   ]
  },
  {
   "cell_type": "code",
   "execution_count": 53,
   "id": "d97bbafc-c353-4d37-93c9-9970ccb80d4c",
   "metadata": {
    "tags": []
   },
   "outputs": [],
   "source": [
    "from math import log, sqrt, pi, exp\n",
    "from scipy.stats import norm\n",
    "import numpy as np\n",
    "\n",
    "def d1(S, K, T, r, sigma):\n",
    "    return (log(S / K) + (r + sigma ** 2 / 2) * T) / (sigma * sqrt(T))\n",
    "\n",
    "def d2(S, K, T, r, sigma):\n",
    "    return d1(S, K, T, r, sigma) - sigma * sqrt(T)\n",
    "\n",
    "def bs_call(S, K, T, r, sigma):\n",
    "    return S * norm.cdf(d1(S, K, T, r, sigma)) - K * exp(-r * T) * norm.cdf(d2(S, K, T, r, sigma))\n",
    "\n",
    "def call_delta(S, K, T, r, sigma):\n",
    "    return norm.cdf(d1(S, K, T, r, sigma))\n",
    "\n",
    "def call_gamma(S, K, T, r, sigma):\n",
    "    return norm.pdf(d1(S, K, T, r, sigma)) / (S * sigma * sqrt(T))\n",
    "\n",
    "def call_vega(S, K, T, r, sigma): # 1% 변동성 민감도\n",
    "    return 0.01 * (S * norm.pdf(d1(S, K, T, r, sigma)) * sqrt(T))\n",
    "\n",
    "def call_theta(S, K, T, r, sigma): # 1 day 감소에 대한 민감도\n",
    "    return (1/365) * (- (S * norm.pdf(d1(S, K, T, r, sigma)) * sigma) / (2 * sqrt(T)) \\\n",
    "                   - r * K * exp(-r * T) * norm.cdf(d2(S, K, T, r, sigma)))\n",
    "\n",
    "def call_rho(S, K, T, r, sigma): # 1bp 변화에 대한 민감도\n",
    "    return 0.0001 * ((K * T * exp(-r * T) * norm.cdf(d2(S, K, T, r, sigma))))\n",
    "\n",
    "def bs_put(S, K, T, r, sigma):\n",
    "    return K * exp(-r * T) - S + bs_call(S, K, T, r, sigma)\n",
    "\n",
    "def put_delta(S, K, T, r, sigma):\n",
    "    return -norm.cdf(-d1(S, K, T, r, sigma))\n",
    "\n",
    "def put_gamma(S, K, T, r, sigma):\n",
    "    return norm.pdf(d1(S, K, T, r, sigma)) / (S * sigma * sqrt(T))\n",
    "\n",
    "def put_vega(S, K, T, r, sigma): # 1% 변동성 민감도\n",
    "    return 0.01 * (S * norm.pdf(d1(S, K, T, r, sigma)) * sqrt(T))\n",
    "\n",
    "def put_theta(S, K, T, r, sigma):  # 1 day 감소에 대한 민감도\n",
    "    return (1/365) * (\n",
    "        - (S * norm.pdf(d1(S, K, T, r, sigma)) * sigma) / (2 * np.sqrt(T))\n",
    "        + r * K * np.exp(-r * T) * norm.cdf(-d2(S, K, T, r, sigma)))\n",
    "\n",
    "def put_rho(S, K, T, r, sigma):\n",
    "    return -0.0001 * (K * T * exp(-r * T) * norm.cdf(-d2(S, K, T, r, sigma)))"
   ]
  },
  {
   "cell_type": "markdown",
   "id": "cadd2096-b0e0-4987-965d-681fa6fa8ab3",
   "metadata": {
    "tags": []
   },
   "source": [
    "## 블랙숄즈 공식을 이용하여 기초자산의 현재가 100, 행사가 100, 잔여만기 1년인 콜옵션의 현재가를 추정하여라. (단, 무위험 이자율 5% p.a., 기초자산의 변동성 30% p.a.)"
   ]
  },
  {
   "cell_type": "code",
   "execution_count": 50,
   "id": "3b505ede-3cbf-484e-ab77-aea202ad83ad",
   "metadata": {
    "tags": []
   },
   "outputs": [
    {
     "name": "stdout",
     "output_type": "stream",
     "text": [
      "콜옵션의 현재가: 14.231254785985819\n",
      "콜옵션의 델타: 0.6242517279060125\n",
      "콜옵션의 감마: 0.012647764437231512\n",
      "콜옵션의 1% 베가: 0.3794329331169454\n",
      "콜옵션의 1day 세타: -0.0221950408136574\n",
      "콜옵션의 1bp 르호: 0.004819391800461543\n"
     ]
    }
   ],
   "source": [
    "print('콜옵션의 현재가:',bs_call(100,100,1,0.05,0.3))\n",
    "print('콜옵션의 델타:',call_delta(100,100,1,0.05,0.3))\n",
    "print('콜옵션의 감마:',call_gamma(100,100,1,0.05,0.3))\n",
    "print('콜옵션의 1% 베가:',call_vega(100,100,1,0.05,0.3))\n",
    "print('콜옵션의 1day 세타:',call_theta(100,100,1,0.05,0.3))\n",
    "print('콜옵션의 1bp 르호:',call_rho(100,100,1,0.05,0.3))"
   ]
  },
  {
   "cell_type": "markdown",
   "id": "14e26cd4-0035-42f2-a9a4-f2ac23ada411",
   "metadata": {
    "tags": []
   },
   "source": [
    "## 블랙숄즈 공식을 이용하여 기초자산의 현재가 100, 행사가 100, 잔여만기 1년인 풋옵션의 현재가를 추정하여라. (단, 무위험 이자율 5% p.a., 기초자산의 변동성 30% p.a.)"
   ]
  },
  {
   "cell_type": "code",
   "execution_count": 54,
   "id": "9436c809-d1b8-4473-967f-a9de291fbaa8",
   "metadata": {
    "tags": []
   },
   "outputs": [
    {
     "name": "stdout",
     "output_type": "stream",
     "text": [
      "풋옵션의 현재가: 9.354197236057225\n",
      "풋옵션의 델타: -0.37574827209398753\n",
      "풋옵션의 감마: 0.012647764437231512\n",
      "풋옵션의 1% 베가: 0.3794329331169454\n",
      "풋옵션의 1day 세타: -0.009164500752003785\n",
      "풋옵션의 1bp 르호: -0.004692902444545599\n"
     ]
    }
   ],
   "source": [
    "print('풋옵션의 현재가:',bs_put(100,100,1,0.05,0.3))\n",
    "print('풋옵션의 델타:',put_delta(100,100,1,0.05,0.3))\n",
    "print('풋옵션의 감마:',put_gamma(100,100,1,0.05,0.3))\n",
    "print('풋옵션의 1% 베가:',put_vega(100,100,1,0.05,0.3))\n",
    "print('풋옵션의 1day 세타:',put_theta(100,100,1,0.05,0.3))\n",
    "print('풋옵션의 1bp 르호:',put_rho(100,100,1,0.05,0.3))"
   ]
  },
  {
   "cell_type": "markdown",
   "id": "0cfbbee2-1613-49e7-92fe-b0ec4f5b859d",
   "metadata": {},
   "source": [
    "## 주가 path 생성하기"
   ]
  },
  {
   "cell_type": "code",
   "execution_count": 13,
   "id": "994ec8c5-0227-466b-bad0-1bb44d73aa48",
   "metadata": {
    "tags": []
   },
   "outputs": [
    {
     "data": {
      "image/png": "[encoded data removed]",
      "text/plain": [
       "<Figure size 300x300 with 1 Axes>"
      ]
     },
     "metadata": {},
     "output_type": "display_data"
    }
   ],
   "source": [
    "import numpy as np\n",
    "import matplotlib.pyplot as plt\n",
    "\n",
    "# 파라미터 설정\n",
    "S0 = 100    # 초기 주가\n",
    "r = 0.05    # 무위험 이자율\n",
    "sigma = 0.2 # 변동성\n",
    "T = 1       # 기간 (년)\n",
    "N = 365     # 시뮬레이션 일수 (하루 단위)\n",
    "dt = T / N  # 시간 간격\n",
    "\n",
    "# 주가 경로 생성\n",
    "np.random.seed(111)\n",
    "W = np.random.randn(N)  # 표준 정규분포 난수\n",
    "S = np.zeros(N+1)  \n",
    "S[0] = S0\n",
    "\n",
    "for t in range(1, N+1):\n",
    "    S[t] = S[t-1] * np.exp((r - 0.5 * sigma**2) * dt\\\n",
    "                           + sigma * np.sqrt(dt) * W[t-1])\n",
    "\n",
    "# 결과 시각화\n",
    "plt.figure(figsize=(3,3))\n",
    "plt.plot(S, label=\"Stock Price Path\")\n",
    "plt.xlabel(\"Days\")\n",
    "plt.ylabel(\"Stock Price\")\n",
    "plt.title(\"Simulated Stock Price Path (GBM)\")\n",
    "plt.legend()\n",
    "plt.show()"
   ]
  },
  {
   "cell_type": "code",
   "execution_count": 14,
   "id": "5ffc3176-6043-4e6b-8008-98738e200794",
   "metadata": {},
   "outputs": [
    {
     "data": {
      "text/plain": [
       "(100.0, 79.49878752360846)"
      ]
     },
     "execution_count": 14,
     "metadata": {},
     "output_type": "execute_result"
    }
   ],
   "source": [
    "S[0],S[-1]"
   ]
  },
  {
   "cell_type": "code",
   "execution_count": 15,
   "id": "91a3b8c1-b338-466b-b3c4-450bfdea37af",
   "metadata": {},
   "outputs": [
    {
     "data": {
      "image/png": "[encoded data removed]",
      "text/plain": [
       "<Figure size 300x300 with 1 Axes>"
      ]
     },
     "metadata": {},
     "output_type": "display_data"
    }
   ],
   "source": [
    "# for문을 사용하지 않고 작성\n",
    "\n",
    "import numpy as np\n",
    "import matplotlib.pyplot as plt\n",
    "\n",
    "# 파라미터 설정\n",
    "S0 = 100    # 초기 주가\n",
    "r = 0.05    # 무위험 이자율\n",
    "sigma = 0.2 # 변동성\n",
    "T = 1       # 기간 (년)\n",
    "N = 365     # 시뮬레이션 일수 (하루 단위)\n",
    "dt = T / N  # 시간 간격\n",
    "\n",
    "# 주가 경로 생성\n",
    "np.random.seed(111)\n",
    "W = np.random.randn(N)  # 표준 정규분포 난수\n",
    "S = np.zeros(N+1)  \n",
    "\n",
    "# log(S)벡터 만들기\n",
    "lnS=(r - 0.5 * sigma**2) * dt + sigma * np.sqrt(dt) * W\n",
    "lnS=np.insert(lnS,0,np.log(S0)) #초기값 추가\n",
    "\n",
    "# 누적합 구하기\n",
    "S=np.exp(np.cumsum(lnS))\n",
    "\n",
    "# 결과 시각화\n",
    "plt.figure(figsize=(3,3))\n",
    "plt.plot(S, label=\"Stock Price Path\")\n",
    "plt.xlabel(\"Days\")\n",
    "plt.ylabel(\"Stock Price\")\n",
    "plt.title(\"Simulated Stock Price Path (GBM)\")\n",
    "plt.legend()\n",
    "plt.show()\n"
   ]
  },
  {
   "cell_type": "code",
   "execution_count": 16,
   "id": "fc089f5a-401e-4a12-948a-cd98dd16b9a9",
   "metadata": {},
   "outputs": [
    {
     "data": {
      "text/plain": [
       "(100.00000000000004, 79.49878752360797)"
      ]
     },
     "execution_count": 16,
     "metadata": {},
     "output_type": "execute_result"
    }
   ],
   "source": [
    "S[0],S[-1]"
   ]
  },
  {
   "cell_type": "markdown",
   "id": "837bd5d7-dd8d-4272-860f-ea760c14d581",
   "metadata": {},
   "source": [
    "## 몬테카를로 시뮬레이션을 이용하여 기초자산의 현재가 100, 행사가 100, 잔여만기 1년인 콜옵션의 현재가를 추정하여라. (단, 무위험 이자율 5% p.a., 기초자산의 변동성 30% p.a.)"
   ]
  },
  {
   "cell_type": "code",
   "execution_count": 24,
   "id": "85d50d88-0448-4a8b-9c74-467daf8f81c7",
   "metadata": {
    "tags": []
   },
   "outputs": [
    {
     "name": "stdout",
     "output_type": "stream",
     "text": [
      "몬테카를로 시뮬레이션 기반 콜옵션 가격: 14.2468\n",
      "블랙숄즈 공식 기반 콜옵션 가격: 14.2313\n"
     ]
    }
   ],
   "source": [
    "import numpy as np\n",
    "\n",
    "# 파라미터 설정\n",
    "S0 = 100      # 현재 주가\n",
    "K = 100       # 행사가격\n",
    "T = 1         # 만기 (년 단위)\n",
    "r = 0.05      # 무위험 이자율 (연간)\n",
    "sigma = 0.3   # 변동성 (연간)\n",
    "n_sim = 100000  # 몬테카를로 시뮬레이션 횟수\n",
    "\n",
    "# 난수 생성 (표준 정규분포)\n",
    "Z = np.random.randn(n_sim)\n",
    "\n",
    "# 몬테카를로 시뮬레이션 (기하 브라운 운동 사용)\n",
    "ST = S0 * np.exp((r - 0.5 * sigma**2) * T + sigma * np.sqrt(T) * Z)\n",
    "\n",
    "# 콜옵션의 페이오프 계산\n",
    "payoff = np.maximum(ST - K, 0)\n",
    "\n",
    "# 현재가치 할인 적용 (할인율: e^(-rT))\n",
    "call_price = np.exp(-r * T) * np.mean(payoff)\n",
    "\n",
    "# 결과 출력\n",
    "print(f\"몬테카를로 시뮬레이션 기반 콜옵션 가격: {call_price:.4f}\")\n",
    "print(f\"블랙숄즈 공식 기반 콜옵션 가격: {bs_call(100,100,1,0.05,0.3):.4f}\")"
   ]
  },
  {
   "cell_type": "markdown",
   "id": "bdd0f07f-116d-4f53-b795-57a959075def",
   "metadata": {},
   "source": [
    "## 몬테카를로 시뮬레이션을 이용하여 기초자산의 현재가 100, 행사가 100, 잔여만기 1년인 콜옵션의 Greeks를 추정하여라. (단, 무위험 이자율 5% p.a., 기초자산의 변동성 30% p.a.)"
   ]
  },
  {
   "cell_type": "code",
   "execution_count": 36,
   "id": "8cc14ba5-2898-4b50-9a75-5fdd90bee4f0",
   "metadata": {
    "tags": []
   },
   "outputs": [],
   "source": [
    "# 콜옵션 함수 작성\n",
    "\n",
    "def MC_Call(S,K,T,r,sigma,n_sim=100000):\n",
    "    import numpy as np\n",
    "    # 난수 생성 (표준 정규분포)\n",
    "    np.random.seed(11)\n",
    "    Z = np.random.randn(n_sim)\n",
    "    # 만기가격 도출\n",
    "    ST = S * np.exp((r - 0.5 * sigma**2) * T\\\n",
    "                     + sigma * np.sqrt(T) * Z)\n",
    "    # 콜옵션의 페이오프 계산\n",
    "    payoff = np.maximum(ST - K, 0)\n",
    "    # 현재가치 할인 적용 (할인율: e^(-rT))\n",
    "    call_price = np.exp(-r * T) * np.mean(payoff)\n",
    "    return call_price"
   ]
  },
  {
   "cell_type": "code",
   "execution_count": 37,
   "id": "52868bbe-769a-4e16-9247-4e5efe3b6039",
   "metadata": {
    "tags": []
   },
   "outputs": [
    {
     "data": {
      "text/plain": [
       "14.34948691846546"
      ]
     },
     "execution_count": 37,
     "metadata": {},
     "output_type": "execute_result"
    }
   ],
   "source": [
    "MC_Call(100,100,1,0.05,0.3)"
   ]
  },
  {
   "cell_type": "code",
   "execution_count": 55,
   "id": "8e3cb724-5377-4675-8797-3b3aba7f0855",
   "metadata": {
    "tags": []
   },
   "outputs": [
    {
     "name": "stdout",
     "output_type": "stream",
     "text": [
      "몬테카를로 시뮬레이션 기반 콜옵션 델타: 0.6269\n",
      "블랙숄즈 공식 기반 콜옵션 델타: 0.6243\n"
     ]
    }
   ],
   "source": [
    "# Delta (Δ)\n",
    "S,K,T,r,sigma=100,100,1,0.05,0.3\n",
    "eps=S*0.01\n",
    "C_plus = MC_Call(S + eps, K, T, r, sigma)\n",
    "C_minus = MC_Call(S - eps, K, T, r, sigma)\n",
    "Delta = (C_plus - C_minus) / (2 * eps)\n",
    "\n",
    "# 결과 출력\n",
    "print(f\"몬테카를로 시뮬레이션 기반 콜옵션 델타: {Delta:.4f}\")\n",
    "print(f\"블랙숄즈 공식 기반 콜옵션 델타: {call_delta(100,100,1,0.05,0.3):.4f}\")"
   ]
  },
  {
   "cell_type": "code",
   "execution_count": 56,
   "id": "101a3ccd-9d4d-4015-bb26-f9b86428ab85",
   "metadata": {
    "tags": []
   },
   "outputs": [
    {
     "name": "stdout",
     "output_type": "stream",
     "text": [
      "몬테카를로 시뮬레이션 기반 콜옵션 감마: 0.0124\n",
      "블랙숄즈 공식 기반 콜옵션 감마: 0.0126\n"
     ]
    }
   ],
   "source": [
    "# Gamma (Γ)\n",
    "eps=S*0.01\n",
    "C_0 = MC_Call(S, K, T, r, sigma)\n",
    "Gamma = (C_plus - 2 * C_0 + C_minus) / (eps ** 2)\n",
    "# 결과 출력\n",
    "print(f\"몬테카를로 시뮬레이션 기반 콜옵션 감마: {Gamma:.4f}\")\n",
    "print(f\"블랙숄즈 공식 기반 콜옵션 감마: {call_gamma(100,100,1,0.05,0.3):.4f}\")"
   ]
  },
  {
   "cell_type": "code",
   "execution_count": 57,
   "id": "19fa92a2-319f-408e-8dd6-70de6ab7200c",
   "metadata": {
    "tags": []
   },
   "outputs": [
    {
     "name": "stdout",
     "output_type": "stream",
     "text": [
      "몬테카를로 시뮬레이션 기반 콜옵션 베가: 0.3837\n",
      "블랙숄즈 공식 기반 콜옵션 베가: 0.3794\n"
     ]
    }
   ],
   "source": [
    "# Vega (V)\n",
    "eps=sigma*0.01\n",
    "C_sigma_plus = MC_Call(S, K, T, r, sigma + eps)\n",
    "C_sigma_minus = MC_Call(S, K, T, r, sigma - eps)\n",
    "Vega = (C_sigma_plus - C_sigma_minus) / (2 * eps)\n",
    "Vega = 0.01*Vega # 1% 베가로 변환\n",
    "# 결과 출력\n",
    "print(f\"몬테카를로 시뮬레이션 기반 콜옵션 베가: {Vega:.4f}\")\n",
    "print(f\"블랙숄즈 공식 기반 콜옵션 베가: {call_vega(100,100,1,0.05,0.3):.4f}\")"
   ]
  },
  {
   "cell_type": "code",
   "execution_count": 58,
   "id": "ac827417-5581-4e32-a227-d4b1da26a8ea",
   "metadata": {
    "tags": []
   },
   "outputs": [
    {
     "name": "stdout",
     "output_type": "stream",
     "text": [
      "몬테카를로 시뮬레이션 기반 콜옵션 세타: -0.0224\n",
      "블랙숄즈 공식 기반 콜옵션 세타: -0.0222\n"
     ]
    }
   ],
   "source": [
    "# 1day Theta (Θ)\n",
    "eps=0.01\n",
    "C_t = MC_Call(S, K, T - eps, r, sigma)\n",
    "Theta = (1/365)*(C_t - C_0) / eps\n",
    "# 결과 출력\n",
    "print(f\"몬테카를로 시뮬레이션 기반 콜옵션 세타: {Theta:.4f}\")\n",
    "print(f\"블랙숄즈 공식 기반 콜옵션 세타: {call_theta(100,100,1,0.05,0.3):.4f}\")"
   ]
  },
  {
   "cell_type": "code",
   "execution_count": 59,
   "id": "b1308226-c695-40a2-9712-dfa28b125e1c",
   "metadata": {
    "tags": []
   },
   "outputs": [
    {
     "name": "stdout",
     "output_type": "stream",
     "text": [
      "몬테카를로 시뮬레이션 기반 콜옵션 르호: 0.0048\n",
      "블랙숄즈 공식 기반 콜옵션 르호: 0.0048\n"
     ]
    }
   ],
   "source": [
    "# 1bp Rho (ρ)\n",
    "eps=0.01\n",
    "C_r_plus = MC_Call(S, K, T, r + eps, sigma)\n",
    "C_r_minus = MC_Call(S, K, T, r - eps, sigma)\n",
    "Rho = 0.0001* (C_r_plus - C_r_minus) / (2 * eps)\n",
    "# 결과 출력\n",
    "print(f\"몬테카를로 시뮬레이션 기반 콜옵션 르호: {Rho:.4f}\")\n",
    "print(f\"블랙숄즈 공식 기반 콜옵션 르호: {call_rho(100,100,1,0.05,0.3):.4f}\")"
   ]
  },
  {
   "cell_type": "markdown",
   "id": "40f6cbee-9b08-48de-92d5-7ee8a973197e",
   "metadata": {},
   "source": [
    "## 몬테카를로 시뮬레이션을 이용하여 기초자산의 현재가 100, 행사가 100, 잔여만기 1년인 풋옵션의 Greeks를 추정하여라. (단, 무위험 이자율 5% p.a., 기초자산의 변동성 30% p.a.)"
   ]
  },
  {
   "cell_type": "code",
   "execution_count": 61,
   "id": "fb75b1d1-89ea-45ca-8846-ba591e02077d",
   "metadata": {
    "tags": []
   },
   "outputs": [],
   "source": [
    "# 풋옵션 함수 작성\n",
    "\n",
    "def MC_Put(S,K,T,r,sigma,n_sim=100000):\n",
    "    import numpy as np\n",
    "    # 난수 생성 (표준 정규분포)\n",
    "    np.random.seed(11)\n",
    "    Z = np.random.randn(n_sim)\n",
    "    # 만기가격 도출\n",
    "    ST = S * np.exp((r - 0.5 * sigma**2) * T\\\n",
    "                     + sigma * np.sqrt(T) * Z)\n",
    "    # 풋옵션의 페이오프 계산\n",
    "    payoff = np.maximum(K-ST, 0)\n",
    "    # 현재가치 할인 적용 (할인율: e^(-rT))\n",
    "    put_price = np.exp(-r * T) * np.mean(payoff)\n",
    "    return put_price"
   ]
  },
  {
   "cell_type": "code",
   "execution_count": 63,
   "id": "688c50a8-fc65-4653-ba17-740e28984cc3",
   "metadata": {
    "tags": []
   },
   "outputs": [
    {
     "name": "stdout",
     "output_type": "stream",
     "text": [
      "몬테카를로 시뮬레이션 기반 풋옵션 가격: 9.2751\n",
      "블랙숄즈 공식 기반 풋옵션 가격: 9.3542\n"
     ]
    }
   ],
   "source": [
    "# 결과 출력\n",
    "print(f\"몬테카를로 시뮬레이션 기반 풋옵션 가격: \" \\\n",
    "      f\"{MC_Put(100, 100, 1, 0.05, 0.3):.4f}\")\n",
    "print(f\"블랙숄즈 공식 기반 풋옵션 가격: \" \\\n",
    "      f\"{bs_put(100,100,1,0.05,0.3):.4f}\")"
   ]
  },
  {
   "cell_type": "code",
   "execution_count": 66,
   "id": "0ffef1d5-667c-46cf-bbab-f9920685365c",
   "metadata": {
    "tags": []
   },
   "outputs": [],
   "source": [
    "def MC_Greeks(fun, S, K, T, r, sigma):\n",
    "    # Delta (Δ)\n",
    "    eps=S*sigma*0.01\n",
    "    C_plus = fun(S + eps, K, T, r, sigma)\n",
    "    C_minus = fun(S - eps, K, T, r, sigma)\n",
    "    Delta = (C_plus - C_minus) / (2 * eps)\n",
    "    # Gamma (Γ)\n",
    "    C_0 = fun(S, K, T, r, sigma)\n",
    "    Gamma = (C_plus - 2 * C_0 + C_minus) / (eps ** 2)\n",
    "    # Vega (V)\n",
    "    eps=sigma*0.01\n",
    "    C_sigma_plus = fun(S, K, T, r, sigma + eps)\n",
    "    C_sigma_minus = fun(S, K, T, r, sigma - eps)\n",
    "    Vega = (C_sigma_plus - C_sigma_minus) / (2 * eps)\n",
    "    Vega = 0.01*Vega # 1% 베가로 변환\n",
    "    # 1day Theta (Θ)\n",
    "    eps=0.01\n",
    "    C_t = fun(S, K, T - eps, r, sigma)\n",
    "    Theta = (1/365)*(C_t - C_0) / eps\n",
    "    # 1bp Rho (ρ)\n",
    "    C_r_plus = fun(S, K, T, r + eps, sigma)\n",
    "    C_r_minus = fun(S, K, T, r - eps, sigma)\n",
    "    Rho = 0.0001* (C_r_plus - C_r_minus) / (2 * eps)\n",
    "    return {\n",
    "        \"Price\": C_0,\n",
    "        \"Delta (Δ)\": Delta,\n",
    "        \"Gamma (Γ)\": Gamma,\n",
    "        \"Theta (Θ)\": Theta,\n",
    "        \"Vega (V)\": Vega,\n",
    "        \"Rho (ρ)\": Rho,\n",
    "    }"
   ]
  },
  {
   "cell_type": "code",
   "execution_count": 67,
   "id": "32b8e733-faa6-4530-b0b8-182f52d81f33",
   "metadata": {
    "tags": []
   },
   "outputs": [
    {
     "data": {
      "text/plain": [
       "{'Price': 9.275129383003724,\n",
       " 'Delta (Δ)': -0.37516958155066504,\n",
       " 'Gamma (Γ)': 0.01162181001753816,\n",
       " 'Theta (Θ)': -0.009135373917150295,\n",
       " 'Vega (V)': 0.3772682484415787,\n",
       " 'Rho (ρ)': -0.004678548225085848}"
      ]
     },
     "execution_count": 67,
     "metadata": {},
     "output_type": "execute_result"
    }
   ],
   "source": [
    "MC_Greeks(MC_Put, 100, 100, 1, 0.05, 0.3)"
   ]
  }
 ],
 "metadata": {
  "kernelspec": {
   "display_name": "Python 3 (ipykernel)",
   "language": "python",
   "name": "python3"
  },
  "language_info": {
   "codemirror_mode": {
    "name": "ipython",
    "version": 3
   },
   "file_extension": ".py",
   "mimetype": "text/x-python",
   "name": "python",
   "nbconvert_exporter": "python",
   "pygments_lexer": "ipython3",
   "version": "3.10.12"
  },
  "widgets": {
   "application/vnd.jupyter.widget-state+json": {
    "state": {},
    "version_major": 2,
    "version_minor": 0
   }
  }
 },
 "nbformat": 4,
 "nbformat_minor": 5
}
